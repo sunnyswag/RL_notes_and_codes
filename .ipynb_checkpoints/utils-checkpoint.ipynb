{
 "cells": [
  {
   "cell_type": "markdown",
   "metadata": {},
   "source": [
    "## 1.[enumerate](#1)\n",
    "## 2.[lambda](#2)\n",
    "## 3.[pandas](#3)\n",
    "## 4.[numpy](#4)\n",
    "## 5.[markdown](#5)\n",
    "## 6.[pytorch](#6)\n",
    "## 7.[plot](#7)\n",
    "## L.[其他操作](#last)"
   ]
  },
  {
   "cell_type": "code",
   "execution_count": 1,
   "metadata": {},
   "outputs": [],
   "source": [
    "import math\n",
    "import numpy as np\n",
    "import pandas as pd\n",
    "import matplotlib.pyplot as plt\n",
    "import torch\n",
    "from torchviz import make_dot\n",
    "from colorama import Fore, Back\n",
    "import seaborn as sns; sns.set(color_codes=True)"
   ]
  },
  {
   "cell_type": "markdown",
   "metadata": {},
   "source": [
    "## <span id =\"1\">1.enumerate</span>"
   ]
  },
  {
   "cell_type": "code",
   "execution_count": 2,
   "metadata": {},
   "outputs": [
    {
     "name": "stdout",
     "output_type": "stream",
     "text": [
      "<enumerate object at 0x7fb8538d9c18> <class 'enumerate'>\n"
     ]
    }
   ],
   "source": [
    "#枚举\n",
    "LL = ['a','b','c']\n",
    "aa =  enumerate(LL)\n",
    "print(aa, type(aa))"
   ]
  },
  {
   "cell_type": "code",
   "execution_count": 3,
   "metadata": {},
   "outputs": [
    {
     "name": "stdout",
     "output_type": "stream",
     "text": [
      "0 a\n",
      "1 b\n",
      "2 c\n"
     ]
    }
   ],
   "source": [
    "for i ,e in enumerate(LL):\n",
    "    print(i,e)"
   ]
  },
  {
   "cell_type": "code",
   "execution_count": 4,
   "metadata": {},
   "outputs": [
    {
     "name": "stdout",
     "output_type": "stream",
     "text": [
      "(3, 'a')\n",
      "(4, 'b')\n",
      "(5, 'c')\n"
     ]
    }
   ],
   "source": [
    "for e in enumerate(LL,3):\n",
    "    print(e)"
   ]
  },
  {
   "cell_type": "markdown",
   "metadata": {},
   "source": [
    "## <span id =\"2\">2.lambda</span>"
   ]
  },
  {
   "cell_type": "markdown",
   "metadata": {},
   "source": [
    "* 快速构建函数"
   ]
  },
  {
   "cell_type": "code",
   "execution_count": 5,
   "metadata": {},
   "outputs": [
    {
     "data": {
      "text/plain": [
       "[<matplotlib.lines.Line2D at 0x7fb8518c00b8>]"
      ]
     },
     "execution_count": 5,
     "metadata": {},
     "output_type": "execute_result"
    },
    {
     "data": {
      "image/png": "[encoded data removed]",
      "text/plain": [
       "<Figure size 432x288 with 1 Axes>"
      ]
     },
     "metadata": {
      "needs_background": "light"
     },
     "output_type": "display_data"
    }
   ],
   "source": [
    "epsilon_by_frame = lambda frame_idx:math.exp(-frame_idx/100)\n",
    "plt.plot([epsilon_by_frame(i) for i in range(500)])"
   ]
  },
  {
   "cell_type": "markdown",
   "metadata": {},
   "source": [
    "* 多返回值"
   ]
  },
  {
   "cell_type": "code",
   "execution_count": 6,
   "metadata": {},
   "outputs": [
    {
     "name": "stdout",
     "output_type": "stream",
     "text": [
      "2 3\n"
     ]
    }
   ],
   "source": [
    "multi_return_value = lambda a, b :(a+1,b+2)\n",
    "a, b =multi_return_value(1,1)\n",
    "print(a,b)"
   ]
  },
  {
   "cell_type": "markdown",
   "metadata": {},
   "source": [
    "* 和map连用快速定义并返回"
   ]
  },
  {
   "cell_type": "code",
   "execution_count": 7,
   "metadata": {},
   "outputs": [
    {
     "data": {
      "text/plain": [
       "[1, 8, 27, 64]"
      ]
     },
     "execution_count": 7,
     "metadata": {},
     "output_type": "execute_result"
    }
   ],
   "source": [
    "L = [1,2,3,4]\n",
    "list(map(lambda x : x**3, L))"
   ]
  },
  {
   "cell_type": "markdown",
   "metadata": {},
   "source": [
    "* 和filter连用进行数据的挑选"
   ]
  },
  {
   "cell_type": "code",
   "execution_count": 8,
   "metadata": {},
   "outputs": [
    {
     "data": {
      "text/plain": [
       "[2, 3, 4]"
      ]
     },
     "execution_count": 8,
     "metadata": {},
     "output_type": "execute_result"
    }
   ],
   "source": [
    "list(filter(lambda x: x>=2, L))"
   ]
  },
  {
   "cell_type": "markdown",
   "metadata": {},
   "source": [
    "## <span id =\"3\">3.pandas</span>"
   ]
  },
  {
   "cell_type": "markdown",
   "metadata": {},
   "source": [
    "* pd.qcut根据值均匀分配将数据分为n个梯度"
   ]
  },
  {
   "cell_type": "code",
   "execution_count": 9,
   "metadata": {},
   "outputs": [
    {
     "data": {
      "text/plain": [
       "[(-0.001, 1.667], (-0.001, 1.667], (1.667, 3.333], (1.667, 3.333], (3.333, 5.0], (3.333, 5.0]]\n",
       "Categories (3, interval[float64]): [(-0.001, 1.667] < (1.667, 3.333] < (3.333, 5.0]]"
      ]
     },
     "execution_count": 9,
     "metadata": {},
     "output_type": "execute_result"
    }
   ],
   "source": [
    "pd.qcut(range(6),3)"
   ]
  },
  {
   "cell_type": "code",
   "execution_count": 10,
   "metadata": {},
   "outputs": [
    {
     "data": {
      "text/plain": [
       "[good, good, medium, bad, bad]\n",
       "Categories (3, object): [good < medium < bad]"
      ]
     },
     "execution_count": 10,
     "metadata": {},
     "output_type": "execute_result"
    }
   ],
   "source": [
    "pd.qcut(range(5), 3, labels=[\"good\", \"medium\", \"bad\"])"
   ]
  },
  {
   "cell_type": "markdown",
   "metadata": {},
   "source": [
    "## <span id =\"4\">4.numpy</span>"
   ]
  },
  {
   "cell_type": "markdown",
   "metadata": {},
   "source": [
    "* np.random.choice进行选择"
   ]
  },
  {
   "cell_type": "code",
   "execution_count": 11,
   "metadata": {},
   "outputs": [
    {
     "name": "stdout",
     "output_type": "stream",
     "text": [
      "4\n",
      "a\n",
      "b\n"
     ]
    }
   ],
   "source": [
    "# np.random.choice(a,size=None,replace=True,p=None)\n",
    "# a:一维数组(表示在其中选一个)或者int数(表示在[0,i-1]中选一个)\n",
    "# size:int数代表一维数组，也可返回指定大小的多维矩阵\n",
    "# replace=True 表示可能会返回重复的项\n",
    "# p:对a中的每个数设置权重，即被选中的概率\n",
    "print(np.random.choice(range(6)))\n",
    "print(np.random.choice([\"a\",\"b\",\"c\",\"d\"]))\n",
    "print(np.random.choice([\"a\",\"b\",\"c\",\"d\"],p = [0,1,0,0]))"
   ]
  },
  {
   "cell_type": "markdown",
   "metadata": {},
   "source": [
    "* 图片的numpy和torch.Tensor之间的转化要用到transpose()函数<br>\n",
    "    对于numpy 的图片:H x W x C<br>\n",
    "    对于$\\;$torch$\\;$ 的图片:C x H x W"
   ]
  },
  {
   "cell_type": "markdown",
   "metadata": {},
   "source": [
    "## <span id = \"5\">5.markdown</span>"
   ]
  },
  {
   "cell_type": "markdown",
   "metadata": {},
   "source": [
    "$${\\max_{a'}}$$"
   ]
  },
  {
   "cell_type": "markdown",
   "metadata": {},
   "source": [
    "## <span id='6'>6.pytorch</span>"
   ]
  },
  {
   "cell_type": "markdown",
   "metadata": {},
   "source": [
    "* pytorch 使用 **(a)** torch.tensor.item()和 **(b)** torch.tensor.cpu().numpy()的异同<br>\n",
    "    同 : 都是将tensor张量转化为python标量值<br>\n",
    "    异 : (a)只能对单个张量操作 | (b)既可以对单个张量操作也可以对进行数组操作"
   ]
  },
  {
   "cell_type": "code",
   "execution_count": 12,
   "metadata": {},
   "outputs": [
    {
     "name": "stdout",
     "output_type": "stream",
     "text": [
      "test : tensor(5)\n",
      ".item() : 5\n",
      ".cpu().numpy() : 5\n"
     ]
    }
   ],
   "source": [
    "test = torch.tensor(5)\n",
    "print(\"test :\", test)\n",
    "print(\".item() :\", test.item())\n",
    "print(\".cpu().numpy() :\", test.cpu().numpy())"
   ]
  },
  {
   "cell_type": "code",
   "execution_count": 13,
   "metadata": {},
   "outputs": [
    {
     "name": "stdout",
     "output_type": "stream",
     "text": [
      "test : tensor([1, 2])\n",
      ".cpu().numpy() : [1 2]\n",
      "\n",
      "\u001b[37m\u001b[41mValueError: only one element tensors can be converted to Python scalars\n"
     ]
    }
   ],
   "source": [
    "test = torch.tensor([1,2])\n",
    "print(\"test :\", test)\n",
    "print(\".cpu().numpy() :\",test.cpu().numpy())\n",
    "print(\"\")\n",
    "try:\n",
    "    print(\".item() :\", test.item())\n",
    "except ValueError :\n",
    "    print(Fore.WHITE + Back.RED + \"ValueError: only one element tensors can be converted to Python scalars\")"
   ]
  },
  {
   "cell_type": "markdown",
   "metadata": {},
   "source": [
    "* torchviz画图<br>\n",
    "该包有两个方法,make_dot_from_trace和make_dot。感觉我只用到了第一个<br>\n",
    "其中，make_dot(model).render(\"picture\")保存的是pdf文档<br>\n",
    "make_dot(model).render(\"picture\", format=\"png\")保存的是png格式图片和图片信息文件"
   ]
  },
  {
   "cell_type": "code",
   "execution_count": 14,
   "metadata": {},
   "outputs": [
    {
     "data": {
      "image/svg+xml": [
       "<?xml version=\"1.0\" encoding=\"UTF-8\" standalone=\"no\"?>\n",
       "<!DOCTYPE svg PUBLIC \"-//W3C//DTD SVG 1.1//EN\"\n",
       " \"http://www.w3.org/Graphics/SVG/1.1/DTD/svg11.dtd\">\n",
       "<!-- Generated by graphviz version 2.38.0 (20140413.2041)\n",
       " -->\n",
       "<!-- Title: %3 Pages: 1 -->\n",
       "<svg width=\"509pt\" height=\"568pt\"\n",
       " viewBox=\"0.00 0.00 508.50 568.00\" xmlns=\"http://www.w3.org/2000/svg\" xmlns:xlink=\"http://www.w3.org/1999/xlink\">\n",
       "<g id=\"graph0\" class=\"graph\" transform=\"scale(1 1) rotate(0) translate(4 564)\">\n",
       "<title>%3</title>\n",
       "<polygon fill=\"white\" stroke=\"none\" points=\"-4,4 -4,-564 504.5,-564 504.5,4 -4,4\"/>\n",
       "<!-- 140429618119680 -->\n",
       "<g id=\"node1\" class=\"node\"><title>140429618119680</title>\n",
       "<polygon fill=\"#caff70\" stroke=\"black\" points=\"197.5,-21 86.5,-21 86.5,-0 197.5,-0 197.5,-21\"/>\n",
       "<text text-anchor=\"middle\" x=\"142\" y=\"-7.4\" font-family=\"Times,serif\" font-size=\"12.00\">MulBackward0</text>\n",
       "</g>\n",
       "<!-- 140429618121360 -->\n",
       "<g id=\"node2\" class=\"node\"><title>140429618121360</title>\n",
       "<polygon fill=\"lightgrey\" stroke=\"black\" points=\"130,-135 0,-135 0,-114 130,-114 130,-135\"/>\n",
       "<text text-anchor=\"middle\" x=\"65\" y=\"-121.4\" font-family=\"Times,serif\" font-size=\"12.00\">SigmoidBackward</text>\n",
       "</g>\n",
       "<!-- 140429618121360&#45;&gt;140429618119680 -->\n",
       "<g id=\"edge1\" class=\"edge\"><title>140429618121360&#45;&gt;140429618119680</title>\n",
       "<path fill=\"none\" stroke=\"black\" d=\"M71.565,-113.951C84.4077,-95.2707 113.04,-53.6238 129.573,-29.5761\"/>\n",
       "<polygon fill=\"black\" stroke=\"black\" points=\"132.67,-31.2482 135.452,-21.0249 126.902,-27.2825 132.67,-31.2482\"/>\n",
       "</g>\n",
       "<!-- 140429618121472 -->\n",
       "<g id=\"node3\" class=\"node\"><title>140429618121472</title>\n",
       "<polygon fill=\"lightgrey\" stroke=\"black\" points=\"286,-306 178,-306 178,-285 286,-285 286,-306\"/>\n",
       "<text text-anchor=\"middle\" x=\"232\" y=\"-292.4\" font-family=\"Times,serif\" font-size=\"12.00\">SplitBackward</text>\n",
       "</g>\n",
       "<!-- 140429618121472&#45;&gt;140429618121360 -->\n",
       "<g id=\"edge2\" class=\"edge\"><title>140429618121472&#45;&gt;140429618121360</title>\n",
       "<path fill=\"none\" stroke=\"black\" d=\"M177.796,-291.714C145.823,-287.107 107.199,-275.849 84,-249 58.9316,-219.987 59.422,-172.165 62.128,-145.337\"/>\n",
       "<polygon fill=\"black\" stroke=\"black\" points=\"65.6229,-145.59 63.3553,-135.241 58.6741,-144.746 65.6229,-145.59\"/>\n",
       "</g>\n",
       "<!-- 140429618122144 -->\n",
       "<g id=\"node16\" class=\"node\"><title>140429618122144</title>\n",
       "<polygon fill=\"lightgrey\" stroke=\"black\" points=\"223,-249 93,-249 93,-228 223,-228 223,-249\"/>\n",
       "<text text-anchor=\"middle\" x=\"158\" y=\"-235.4\" font-family=\"Times,serif\" font-size=\"12.00\">SigmoidBackward</text>\n",
       "</g>\n",
       "<!-- 140429618121472&#45;&gt;140429618122144 -->\n",
       "<g id=\"edge16\" class=\"edge\"><title>140429618121472&#45;&gt;140429618122144</title>\n",
       "<path fill=\"none\" stroke=\"black\" d=\"M219.11,-284.92C208.209,-276.818 192.363,-265.04 179.538,-255.508\"/>\n",
       "<polygon fill=\"black\" stroke=\"black\" points=\"181.354,-252.497 171.24,-249.341 177.179,-258.115 181.354,-252.497\"/>\n",
       "</g>\n",
       "<!-- 140429618122648 -->\n",
       "<g id=\"node18\" class=\"node\"><title>140429618122648</title>\n",
       "<polygon fill=\"lightgrey\" stroke=\"black\" points=\"371,-249 241,-249 241,-228 371,-228 371,-249\"/>\n",
       "<text text-anchor=\"middle\" x=\"306\" y=\"-235.4\" font-family=\"Times,serif\" font-size=\"12.00\">SigmoidBackward</text>\n",
       "</g>\n",
       "<!-- 140429618121472&#45;&gt;140429618122648 -->\n",
       "<g id=\"edge19\" class=\"edge\"><title>140429618121472&#45;&gt;140429618122648</title>\n",
       "<path fill=\"none\" stroke=\"black\" d=\"M244.89,-284.92C255.791,-276.818 271.637,-265.04 284.462,-255.508\"/>\n",
       "<polygon fill=\"black\" stroke=\"black\" points=\"286.821,-258.115 292.76,-249.341 282.646,-252.497 286.821,-258.115\"/>\n",
       "</g>\n",
       "<!-- 140429618118784 -->\n",
       "<g id=\"node19\" class=\"node\"><title>140429618118784</title>\n",
       "<polygon fill=\"lightgrey\" stroke=\"black\" points=\"500.5,-249 389.5,-249 389.5,-228 500.5,-228 500.5,-249\"/>\n",
       "<text text-anchor=\"middle\" x=\"445\" y=\"-235.4\" font-family=\"Times,serif\" font-size=\"12.00\">TanhBackward</text>\n",
       "</g>\n",
       "<!-- 140429618121472&#45;&gt;140429618118784 -->\n",
       "<g id=\"edge21\" class=\"edge\"><title>140429618121472&#45;&gt;140429618118784</title>\n",
       "<path fill=\"none\" stroke=\"black\" d=\"M269.102,-284.92C304.88,-275.681 359.167,-261.664 397.962,-251.646\"/>\n",
       "<polygon fill=\"black\" stroke=\"black\" points=\"399.159,-254.952 407.967,-249.063 397.409,-248.174 399.159,-254.952\"/>\n",
       "</g>\n",
       "<!-- 140429618121640 -->\n",
       "<g id=\"node4\" class=\"node\"><title>140429618121640</title>\n",
       "<polygon fill=\"lightgrey\" stroke=\"black\" points=\"288.5,-363 175.5,-363 175.5,-342 288.5,-342 288.5,-363\"/>\n",
       "<text text-anchor=\"middle\" x=\"232\" y=\"-349.4\" font-family=\"Times,serif\" font-size=\"12.00\">AddBackward0</text>\n",
       "</g>\n",
       "<!-- 140429618121640&#45;&gt;140429618121472 -->\n",
       "<g id=\"edge3\" class=\"edge\"><title>140429618121640&#45;&gt;140429618121472</title>\n",
       "<path fill=\"none\" stroke=\"black\" d=\"M232,-341.92C232,-334.908 232,-325.144 232,-316.465\"/>\n",
       "<polygon fill=\"black\" stroke=\"black\" points=\"235.5,-316.341 232,-306.341 228.5,-316.341 235.5,-316.341\"/>\n",
       "</g>\n",
       "<!-- 140429618121696 -->\n",
       "<g id=\"node5\" class=\"node\"><title>140429618121696</title>\n",
       "<polygon fill=\"lightgrey\" stroke=\"black\" points=\"223,-420 95,-420 95,-399 223,-399 223,-420\"/>\n",
       "<text text-anchor=\"middle\" x=\"159\" y=\"-406.4\" font-family=\"Times,serif\" font-size=\"12.00\">AddmmBackward</text>\n",
       "</g>\n",
       "<!-- 140429618121696&#45;&gt;140429618121640 -->\n",
       "<g id=\"edge4\" class=\"edge\"><title>140429618121696&#45;&gt;140429618121640</title>\n",
       "<path fill=\"none\" stroke=\"black\" d=\"M171.716,-398.92C182.469,-390.818 198.102,-379.04 210.753,-369.508\"/>\n",
       "<polygon fill=\"black\" stroke=\"black\" points=\"213.058,-372.154 218.939,-363.341 208.846,-366.563 213.058,-372.154\"/>\n",
       "</g>\n",
       "<!-- 140429618121304 -->\n",
       "<g id=\"node6\" class=\"node\"><title>140429618121304</title>\n",
       "<polygon fill=\"lightblue\" stroke=\"black\" points=\"109.5,-490 48.5,-490 48.5,-456 109.5,-456 109.5,-490\"/>\n",
       "<text text-anchor=\"middle\" x=\"79\" y=\"-476.4\" font-family=\"Times,serif\" font-size=\"12.00\">bias_ih</text>\n",
       "<text text-anchor=\"middle\" x=\"79\" y=\"-463.4\" font-family=\"Times,serif\" font-size=\"12.00\"> (512)</text>\n",
       "</g>\n",
       "<!-- 140429618121304&#45;&gt;140429618121696 -->\n",
       "<g id=\"edge5\" class=\"edge\"><title>140429618121304&#45;&gt;140429618121696</title>\n",
       "<path fill=\"none\" stroke=\"black\" d=\"M100.019,-455.842C111.94,-446.678 126.788,-435.263 138.605,-426.179\"/>\n",
       "<polygon fill=\"black\" stroke=\"black\" points=\"140.793,-428.911 146.588,-420.042 136.527,-423.362 140.793,-428.911\"/>\n",
       "</g>\n",
       "<!-- 140429618119960 -->\n",
       "<g id=\"node7\" class=\"node\"><title>140429618119960</title>\n",
       "<polygon fill=\"lightgrey\" stroke=\"black\" points=\"216,-483.5 128,-483.5 128,-462.5 216,-462.5 216,-483.5\"/>\n",
       "<text text-anchor=\"middle\" x=\"172\" y=\"-469.9\" font-family=\"Times,serif\" font-size=\"12.00\">TBackward</text>\n",
       "</g>\n",
       "<!-- 140429618119960&#45;&gt;140429618121696 -->\n",
       "<g id=\"edge6\" class=\"edge\"><title>140429618119960&#45;&gt;140429618121696</title>\n",
       "<path fill=\"none\" stroke=\"black\" d=\"M169.969,-462.391C168.148,-453.776 165.42,-440.871 163.14,-430.086\"/>\n",
       "<polygon fill=\"black\" stroke=\"black\" points=\"166.552,-429.305 161.06,-420.245 159.704,-430.753 166.552,-429.305\"/>\n",
       "</g>\n",
       "<!-- 140429618121136 -->\n",
       "<g id=\"node8\" class=\"node\"><title>140429618121136</title>\n",
       "<polygon fill=\"lightblue\" stroke=\"black\" points=\"213,-560 131,-560 131,-526 213,-526 213,-560\"/>\n",
       "<text text-anchor=\"middle\" x=\"172\" y=\"-546.4\" font-family=\"Times,serif\" font-size=\"12.00\">weight_ih</text>\n",
       "<text text-anchor=\"middle\" x=\"172\" y=\"-533.4\" font-family=\"Times,serif\" font-size=\"12.00\"> (512, 128)</text>\n",
       "</g>\n",
       "<!-- 140429618121136&#45;&gt;140429618119960 -->\n",
       "<g id=\"edge7\" class=\"edge\"><title>140429618121136&#45;&gt;140429618119960</title>\n",
       "<path fill=\"none\" stroke=\"black\" d=\"M172,-525.885C172,-516.309 172,-504.088 172,-493.912\"/>\n",
       "<polygon fill=\"black\" stroke=\"black\" points=\"175.5,-493.895 172,-483.895 168.5,-493.895 175.5,-493.895\"/>\n",
       "</g>\n",
       "<!-- 140429618121528 -->\n",
       "<g id=\"node9\" class=\"node\"><title>140429618121528</title>\n",
       "<polygon fill=\"lightgrey\" stroke=\"black\" points=\"369,-420 241,-420 241,-399 369,-399 369,-420\"/>\n",
       "<text text-anchor=\"middle\" x=\"305\" y=\"-406.4\" font-family=\"Times,serif\" font-size=\"12.00\">AddmmBackward</text>\n",
       "</g>\n",
       "<!-- 140429618121528&#45;&gt;140429618121640 -->\n",
       "<g id=\"edge8\" class=\"edge\"><title>140429618121528&#45;&gt;140429618121640</title>\n",
       "<path fill=\"none\" stroke=\"black\" d=\"M292.284,-398.92C281.531,-390.818 265.898,-379.04 253.247,-369.508\"/>\n",
       "<polygon fill=\"black\" stroke=\"black\" points=\"255.154,-366.563 245.061,-363.341 250.942,-372.154 255.154,-366.563\"/>\n",
       "</g>\n",
       "<!-- 140429618122088 -->\n",
       "<g id=\"node10\" class=\"node\"><title>140429618122088</title>\n",
       "<polygon fill=\"lightblue\" stroke=\"black\" points=\"324.5,-490 259.5,-490 259.5,-456 324.5,-456 324.5,-490\"/>\n",
       "<text text-anchor=\"middle\" x=\"292\" y=\"-476.4\" font-family=\"Times,serif\" font-size=\"12.00\">bias_hh</text>\n",
       "<text text-anchor=\"middle\" x=\"292\" y=\"-463.4\" font-family=\"Times,serif\" font-size=\"12.00\"> (512)</text>\n",
       "</g>\n",
       "<!-- 140429618122088&#45;&gt;140429618121528 -->\n",
       "<g id=\"edge9\" class=\"edge\"><title>140429618122088&#45;&gt;140429618121528</title>\n",
       "<path fill=\"none\" stroke=\"black\" d=\"M295.416,-455.842C297.089,-447.923 299.118,-438.324 300.878,-430.001\"/>\n",
       "<polygon fill=\"black\" stroke=\"black\" points=\"304.339,-430.55 302.983,-420.042 297.49,-429.102 304.339,-430.55\"/>\n",
       "</g>\n",
       "<!-- 140429618122256 -->\n",
       "<g id=\"node11\" class=\"node\"><title>140429618122256</title>\n",
       "<polygon fill=\"lightgrey\" stroke=\"black\" points=\"431,-483.5 343,-483.5 343,-462.5 431,-462.5 431,-483.5\"/>\n",
       "<text text-anchor=\"middle\" x=\"387\" y=\"-469.9\" font-family=\"Times,serif\" font-size=\"12.00\">TBackward</text>\n",
       "</g>\n",
       "<!-- 140429618122256&#45;&gt;140429618121528 -->\n",
       "<g id=\"edge10\" class=\"edge\"><title>140429618122256&#45;&gt;140429618121528</title>\n",
       "<path fill=\"none\" stroke=\"black\" d=\"M374.188,-462.391C361.31,-452.732 341.242,-437.681 326.028,-426.271\"/>\n",
       "<polygon fill=\"black\" stroke=\"black\" points=\"327.823,-423.242 317.723,-420.042 323.623,-428.842 327.823,-423.242\"/>\n",
       "</g>\n",
       "<!-- 140429618119008 -->\n",
       "<g id=\"node12\" class=\"node\"><title>140429618119008</title>\n",
       "<polygon fill=\"lightblue\" stroke=\"black\" points=\"428.5,-560 345.5,-560 345.5,-526 428.5,-526 428.5,-560\"/>\n",
       "<text text-anchor=\"middle\" x=\"387\" y=\"-546.4\" font-family=\"Times,serif\" font-size=\"12.00\">weight_hh</text>\n",
       "<text text-anchor=\"middle\" x=\"387\" y=\"-533.4\" font-family=\"Times,serif\" font-size=\"12.00\"> (512, 128)</text>\n",
       "</g>\n",
       "<!-- 140429618119008&#45;&gt;140429618122256 -->\n",
       "<g id=\"edge11\" class=\"edge\"><title>140429618119008&#45;&gt;140429618122256</title>\n",
       "<path fill=\"none\" stroke=\"black\" d=\"M387,-525.885C387,-516.309 387,-504.088 387,-493.912\"/>\n",
       "<polygon fill=\"black\" stroke=\"black\" points=\"390.5,-493.895 387,-483.895 383.5,-493.895 390.5,-493.895\"/>\n",
       "</g>\n",
       "<!-- 140429618121752 -->\n",
       "<g id=\"node13\" class=\"node\"><title>140429618121752</title>\n",
       "<polygon fill=\"lightgrey\" stroke=\"black\" points=\"246.5,-78 135.5,-78 135.5,-57 246.5,-57 246.5,-78\"/>\n",
       "<text text-anchor=\"middle\" x=\"191\" y=\"-64.4\" font-family=\"Times,serif\" font-size=\"12.00\">TanhBackward</text>\n",
       "</g>\n",
       "<!-- 140429618121752&#45;&gt;140429618119680 -->\n",
       "<g id=\"edge12\" class=\"edge\"><title>140429618121752&#45;&gt;140429618119680</title>\n",
       "<path fill=\"none\" stroke=\"black\" d=\"M182.465,-56.9197C175.594,-49.2072 165.755,-38.1639 157.5,-28.8978\"/>\n",
       "<polygon fill=\"black\" stroke=\"black\" points=\"160.033,-26.4792 150.767,-21.3408 154.806,-31.1357 160.033,-26.4792\"/>\n",
       "</g>\n",
       "<!-- 140429618122424 -->\n",
       "<g id=\"node14\" class=\"node\"><title>140429618122424</title>\n",
       "<polygon fill=\"#caff70\" stroke=\"black\" points=\"261.5,-135 148.5,-135 148.5,-114 261.5,-114 261.5,-135\"/>\n",
       "<text text-anchor=\"middle\" x=\"205\" y=\"-121.4\" font-family=\"Times,serif\" font-size=\"12.00\">AddBackward0</text>\n",
       "</g>\n",
       "<!-- 140429618122424&#45;&gt;140429618121752 -->\n",
       "<g id=\"edge13\" class=\"edge\"><title>140429618122424&#45;&gt;140429618121752</title>\n",
       "<path fill=\"none\" stroke=\"black\" d=\"M202.561,-113.92C200.757,-106.83 198.236,-96.9269 196.009,-88.1763\"/>\n",
       "<polygon fill=\"black\" stroke=\"black\" points=\"199.364,-87.1684 193.505,-78.3408 192.58,-88.8952 199.364,-87.1684\"/>\n",
       "</g>\n",
       "<!-- 140429618119512 -->\n",
       "<g id=\"node15\" class=\"node\"><title>140429618119512</title>\n",
       "<polygon fill=\"lightgrey\" stroke=\"black\" points=\"222.5,-192 111.5,-192 111.5,-171 222.5,-171 222.5,-192\"/>\n",
       "<text text-anchor=\"middle\" x=\"167\" y=\"-178.4\" font-family=\"Times,serif\" font-size=\"12.00\">MulBackward0</text>\n",
       "</g>\n",
       "<!-- 140429618119512&#45;&gt;140429618122424 -->\n",
       "<g id=\"edge14\" class=\"edge\"><title>140429618119512&#45;&gt;140429618122424</title>\n",
       "<path fill=\"none\" stroke=\"black\" d=\"M173.619,-170.92C178.786,-163.441 186.117,-152.83 192.394,-143.745\"/>\n",
       "<polygon fill=\"black\" stroke=\"black\" points=\"195.396,-145.558 198.201,-135.341 189.637,-141.579 195.396,-145.558\"/>\n",
       "</g>\n",
       "<!-- 140429618122144&#45;&gt;140429618119512 -->\n",
       "<g id=\"edge15\" class=\"edge\"><title>140429618122144&#45;&gt;140429618119512</title>\n",
       "<path fill=\"none\" stroke=\"black\" d=\"M159.568,-227.92C160.715,-220.908 162.313,-211.144 163.733,-202.465\"/>\n",
       "<polygon fill=\"black\" stroke=\"black\" points=\"167.229,-202.775 165.39,-192.341 160.321,-201.644 167.229,-202.775\"/>\n",
       "</g>\n",
       "<!-- 140429618121248 -->\n",
       "<g id=\"node17\" class=\"node\"><title>140429618121248</title>\n",
       "<polygon fill=\"lightgrey\" stroke=\"black\" points=\"361.5,-192 250.5,-192 250.5,-171 361.5,-171 361.5,-192\"/>\n",
       "<text text-anchor=\"middle\" x=\"306\" y=\"-178.4\" font-family=\"Times,serif\" font-size=\"12.00\">MulBackward0</text>\n",
       "</g>\n",
       "<!-- 140429618121248&#45;&gt;140429618122424 -->\n",
       "<g id=\"edge17\" class=\"edge\"><title>140429618121248&#45;&gt;140429618122424</title>\n",
       "<path fill=\"none\" stroke=\"black\" d=\"M288.407,-170.92C272.717,-162.376 249.521,-149.744 231.571,-139.969\"/>\n",
       "<polygon fill=\"black\" stroke=\"black\" points=\"233.186,-136.864 222.73,-135.155 229.839,-143.011 233.186,-136.864\"/>\n",
       "</g>\n",
       "<!-- 140429618122648&#45;&gt;140429618121248 -->\n",
       "<g id=\"edge18\" class=\"edge\"><title>140429618122648&#45;&gt;140429618121248</title>\n",
       "<path fill=\"none\" stroke=\"black\" d=\"M306,-227.92C306,-220.908 306,-211.144 306,-202.465\"/>\n",
       "<polygon fill=\"black\" stroke=\"black\" points=\"309.5,-202.341 306,-192.341 302.5,-202.341 309.5,-202.341\"/>\n",
       "</g>\n",
       "<!-- 140429618118784&#45;&gt;140429618121248 -->\n",
       "<g id=\"edge20\" class=\"edge\"><title>140429618118784&#45;&gt;140429618121248</title>\n",
       "<path fill=\"none\" stroke=\"black\" d=\"M420.788,-227.92C398.403,-219.062 364.915,-205.812 339.878,-195.905\"/>\n",
       "<polygon fill=\"black\" stroke=\"black\" points=\"340.987,-192.58 330.401,-192.155 338.412,-199.089 340.987,-192.58\"/>\n",
       "</g>\n",
       "</g>\n",
       "</svg>\n"
      ],
      "text/plain": [
       "<graphviz.dot.Digraph at 0x7fb851810e48>"
      ]
     },
     "execution_count": 14,
     "metadata": {},
     "output_type": "execute_result"
    }
   ],
   "source": [
    "lstm_cell = torch.nn.LSTMCell(128, 128)\n",
    "x = torch.randn(3, 128)\n",
    "make_dot(lstm_cell(x), params=dict(list(lstm_cell.named_parameters())))"
   ]
  },
  {
   "cell_type": "markdown",
   "metadata": {},
   "source": [
    "* 理解.detach()<br>\n",
    "    1. 简单理解为该tensor的复制，且require_grad = False\n",
    "    2. 通常我们使用到model里输出的量是require_grad = True的，也就是说其包含原始梯度，而这时我们又需要用其计算Loss，此时便需要重置其梯度，使其不受原始梯度的影响。所以.detach()也就起到了重置梯度的作用\n",
    "    3. 下图的演示展示了.detach(),require_grad = False\n",
    "    4. detach()不能乱用，在计算loss function时，根据是不是需要求导(论文中的求导公式)来使用.detach()"
   ]
  },
  {
   "cell_type": "code",
   "execution_count": 15,
   "metadata": {},
   "outputs": [
    {
     "name": "stdout",
     "output_type": "stream",
     "text": [
      "x.grad: tensor([5., 5., 5., 5., 5., 5., 5., 5., 5., 5.])\n"
     ]
    },
    {
     "data": {
      "image/svg+xml": [
       "<?xml version=\"1.0\" encoding=\"UTF-8\" standalone=\"no\"?>\n",
       "<!DOCTYPE svg PUBLIC \"-//W3C//DTD SVG 1.1//EN\"\n",
       " \"http://www.w3.org/Graphics/SVG/1.1/DTD/svg11.dtd\">\n",
       "<!-- Generated by graphviz version 2.38.0 (20140413.2041)\n",
       " -->\n",
       "<!-- Title: %3 Pages: 1 -->\n",
       "<svg width=\"252pt\" height=\"214pt\"\n",
       " viewBox=\"0.00 0.00 252.00 214.00\" xmlns=\"http://www.w3.org/2000/svg\" xmlns:xlink=\"http://www.w3.org/1999/xlink\">\n",
       "<g id=\"graph0\" class=\"graph\" transform=\"scale(1 1) rotate(0) translate(4 210)\">\n",
       "<title>%3</title>\n",
       "<polygon fill=\"white\" stroke=\"none\" points=\"-4,4 -4,-210 248,-210 248,4 -4,4\"/>\n",
       "<!-- 140429618571808 -->\n",
       "<g id=\"node1\" class=\"node\"><title>140429618571808</title>\n",
       "<polygon fill=\"#caff70\" stroke=\"black\" points=\"178.5,-21 64.5,-21 64.5,-0 178.5,-0 178.5,-21\"/>\n",
       "<text text-anchor=\"middle\" x=\"121.5\" y=\"-7.4\" font-family=\"Times,serif\" font-size=\"12.00\">SumBackward0</text>\n",
       "</g>\n",
       "<!-- 140429618572984 -->\n",
       "<g id=\"node2\" class=\"node\"><title>140429618572984</title>\n",
       "<polygon fill=\"lightgrey\" stroke=\"black\" points=\"178,-78 65,-78 65,-57 178,-57 178,-78\"/>\n",
       "<text text-anchor=\"middle\" x=\"121.5\" y=\"-64.4\" font-family=\"Times,serif\" font-size=\"12.00\">AddBackward0</text>\n",
       "</g>\n",
       "<!-- 140429618572984&#45;&gt;140429618571808 -->\n",
       "<g id=\"edge1\" class=\"edge\"><title>140429618572984&#45;&gt;140429618571808</title>\n",
       "<path fill=\"none\" stroke=\"black\" d=\"M121.5,-56.9197C121.5,-49.9083 121.5,-40.1442 121.5,-31.4652\"/>\n",
       "<polygon fill=\"black\" stroke=\"black\" points=\"125,-31.3408 121.5,-21.3408 118,-31.3409 125,-31.3408\"/>\n",
       "</g>\n",
       "<!-- 140429618569904 -->\n",
       "<g id=\"node3\" class=\"node\"><title>140429618569904</title>\n",
       "<polygon fill=\"lightgrey\" stroke=\"black\" points=\"113,-135 0,-135 0,-114 113,-114 113,-135\"/>\n",
       "<text text-anchor=\"middle\" x=\"56.5\" y=\"-121.4\" font-family=\"Times,serif\" font-size=\"12.00\">PowBackward0</text>\n",
       "</g>\n",
       "<!-- 140429618569904&#45;&gt;140429618572984 -->\n",
       "<g id=\"edge2\" class=\"edge\"><title>140429618569904&#45;&gt;140429618572984</title>\n",
       "<path fill=\"none\" stroke=\"black\" d=\"M67.8221,-113.92C77.2132,-105.973 90.7827,-94.4916 101.928,-85.0605\"/>\n",
       "<polygon fill=\"black\" stroke=\"black\" points=\"104.497,-87.4721 109.87,-78.3408 99.9752,-82.1284 104.497,-87.4721\"/>\n",
       "</g>\n",
       "<!-- 140429618572200 -->\n",
       "<g id=\"node4\" class=\"node\"><title>140429618572200</title>\n",
       "<polygon fill=\"lightblue\" stroke=\"black\" points=\"148.5,-206 94.5,-206 94.5,-171 148.5,-171 148.5,-206\"/>\n",
       "<text text-anchor=\"middle\" x=\"121.5\" y=\"-178.4\" font-family=\"Times,serif\" font-size=\"12.00\"> (10)</text>\n",
       "</g>\n",
       "<!-- 140429618572200&#45;&gt;140429618569904 -->\n",
       "<g id=\"edge3\" class=\"edge\"><title>140429618572200&#45;&gt;140429618569904</title>\n",
       "<path fill=\"none\" stroke=\"black\" d=\"M104.081,-170.885C94.6799,-161.918 83.1153,-150.887 73.7415,-141.946\"/>\n",
       "<polygon fill=\"black\" stroke=\"black\" points=\"76.1302,-139.387 66.4783,-135.018 71.2987,-144.453 76.1302,-139.387\"/>\n",
       "</g>\n",
       "<!-- 140429618571024 -->\n",
       "<g id=\"node5\" class=\"node\"><title>140429618571024</title>\n",
       "<polygon fill=\"lightgrey\" stroke=\"black\" points=\"244,-135 131,-135 131,-114 244,-114 244,-135\"/>\n",
       "<text text-anchor=\"middle\" x=\"187.5\" y=\"-121.4\" font-family=\"Times,serif\" font-size=\"12.00\">PowBackward0</text>\n",
       "</g>\n",
       "<!-- 140429618572200&#45;&gt;140429618571024 -->\n",
       "<g id=\"edge5\" class=\"edge\"><title>140429618572200&#45;&gt;140429618571024</title>\n",
       "<path fill=\"none\" stroke=\"black\" d=\"M139.187,-170.885C148.733,-161.918 160.475,-150.887 169.993,-141.946\"/>\n",
       "<polygon fill=\"black\" stroke=\"black\" points=\"172.476,-144.416 177.368,-135.018 167.683,-139.314 172.476,-144.416\"/>\n",
       "</g>\n",
       "<!-- 140429618571024&#45;&gt;140429618572984 -->\n",
       "<g id=\"edge4\" class=\"edge\"><title>140429618571024&#45;&gt;140429618572984</title>\n",
       "<path fill=\"none\" stroke=\"black\" d=\"M176.004,-113.92C166.375,-105.896 152.419,-94.2661 141.04,-84.7837\"/>\n",
       "<polygon fill=\"black\" stroke=\"black\" points=\"143.232,-82.0539 133.309,-78.3408 138.751,-87.4315 143.232,-82.0539\"/>\n",
       "</g>\n",
       "</g>\n",
       "</svg>\n"
      ],
      "text/plain": [
       "<graphviz.dot.Digraph at 0x7fb85187e400>"
      ]
     },
     "execution_count": 15,
     "metadata": {},
     "output_type": "execute_result"
    }
   ],
   "source": [
    "x = torch.ones(10, requires_grad=True)\n",
    "y = x**2\n",
    "z = x**3\n",
    "r = (y + z).sum()\n",
    "r.backward()\n",
    "print(\"x.grad:\", x.grad)\n",
    "make_dot(r)"
   ]
  },
  {
   "cell_type": "code",
   "execution_count": 16,
   "metadata": {},
   "outputs": [
    {
     "name": "stdout",
     "output_type": "stream",
     "text": [
      "x.grad: tensor([2., 2., 2., 2., 2., 2., 2., 2., 2., 2.])\n"
     ]
    },
    {
     "data": {
      "image/svg+xml": [
       "<?xml version=\"1.0\" encoding=\"UTF-8\" standalone=\"no\"?>\n",
       "<!DOCTYPE svg PUBLIC \"-//W3C//DTD SVG 1.1//EN\"\n",
       " \"http://www.w3.org/Graphics/SVG/1.1/DTD/svg11.dtd\">\n",
       "<!-- Generated by graphviz version 2.38.0 (20140413.2041)\n",
       " -->\n",
       "<!-- Title: %3 Pages: 1 -->\n",
       "<svg width=\"122pt\" height=\"214pt\"\n",
       " viewBox=\"0.00 0.00 122.00 214.00\" xmlns=\"http://www.w3.org/2000/svg\" xmlns:xlink=\"http://www.w3.org/1999/xlink\">\n",
       "<g id=\"graph0\" class=\"graph\" transform=\"scale(1 1) rotate(0) translate(4 210)\">\n",
       "<title>%3</title>\n",
       "<polygon fill=\"white\" stroke=\"none\" points=\"-4,4 -4,-210 118,-210 118,4 -4,4\"/>\n",
       "<!-- 140429618191328 -->\n",
       "<g id=\"node1\" class=\"node\"><title>140429618191328</title>\n",
       "<polygon fill=\"#caff70\" stroke=\"black\" points=\"114,-21 0,-21 0,-0 114,-0 114,-21\"/>\n",
       "<text text-anchor=\"middle\" x=\"57\" y=\"-7.4\" font-family=\"Times,serif\" font-size=\"12.00\">SumBackward0</text>\n",
       "</g>\n",
       "<!-- 140429618190656 -->\n",
       "<g id=\"node2\" class=\"node\"><title>140429618190656</title>\n",
       "<polygon fill=\"lightgrey\" stroke=\"black\" points=\"113.5,-78 0.5,-78 0.5,-57 113.5,-57 113.5,-78\"/>\n",
       "<text text-anchor=\"middle\" x=\"57\" y=\"-64.4\" font-family=\"Times,serif\" font-size=\"12.00\">AddBackward0</text>\n",
       "</g>\n",
       "<!-- 140429618190656&#45;&gt;140429618191328 -->\n",
       "<g id=\"edge1\" class=\"edge\"><title>140429618190656&#45;&gt;140429618191328</title>\n",
       "<path fill=\"none\" stroke=\"black\" d=\"M57,-56.9197C57,-49.9083 57,-40.1442 57,-31.4652\"/>\n",
       "<polygon fill=\"black\" stroke=\"black\" points=\"60.5001,-31.3408 57,-21.3408 53.5001,-31.3409 60.5001,-31.3408\"/>\n",
       "</g>\n",
       "<!-- 140429618191104 -->\n",
       "<g id=\"node3\" class=\"node\"><title>140429618191104</title>\n",
       "<polygon fill=\"lightgrey\" stroke=\"black\" points=\"113.5,-135 0.5,-135 0.5,-114 113.5,-114 113.5,-135\"/>\n",
       "<text text-anchor=\"middle\" x=\"57\" y=\"-121.4\" font-family=\"Times,serif\" font-size=\"12.00\">PowBackward0</text>\n",
       "</g>\n",
       "<!-- 140429618191104&#45;&gt;140429618190656 -->\n",
       "<g id=\"edge2\" class=\"edge\"><title>140429618191104&#45;&gt;140429618190656</title>\n",
       "<path fill=\"none\" stroke=\"black\" d=\"M57,-113.92C57,-106.908 57,-97.1442 57,-88.4652\"/>\n",
       "<polygon fill=\"black\" stroke=\"black\" points=\"60.5001,-88.3408 57,-78.3408 53.5001,-88.3409 60.5001,-88.3408\"/>\n",
       "</g>\n",
       "<!-- 140429618191832 -->\n",
       "<g id=\"node4\" class=\"node\"><title>140429618191832</title>\n",
       "<polygon fill=\"lightblue\" stroke=\"black\" points=\"84,-206 30,-206 30,-171 84,-171 84,-206\"/>\n",
       "<text text-anchor=\"middle\" x=\"57\" y=\"-178.4\" font-family=\"Times,serif\" font-size=\"12.00\"> (10)</text>\n",
       "</g>\n",
       "<!-- 140429618191832&#45;&gt;140429618191104 -->\n",
       "<g id=\"edge3\" class=\"edge\"><title>140429618191832&#45;&gt;140429618191104</title>\n",
       "<path fill=\"none\" stroke=\"black\" d=\"M57,-170.885C57,-162.994 57,-153.505 57,-145.248\"/>\n",
       "<polygon fill=\"black\" stroke=\"black\" points=\"60.5001,-145.018 57,-135.018 53.5001,-145.018 60.5001,-145.018\"/>\n",
       "</g>\n",
       "</g>\n",
       "</svg>\n"
      ],
      "text/plain": [
       "<graphviz.dot.Digraph at 0x7fb851821c88>"
      ]
     },
     "execution_count": 16,
     "metadata": {},
     "output_type": "execute_result"
    }
   ],
   "source": [
    "x = torch.ones(10, requires_grad=True)\n",
    "y = x**2\n",
    "z = x.detach()**3\n",
    "r = (y + z).sum()\n",
    "r.backward()\n",
    "print(\"x.grad:\", x.grad)\n",
    "make_dot(r)"
   ]
  },
  {
   "cell_type": "markdown",
   "metadata": {},
   "source": [
    "## <span id = \"last\">plot</span>"
   ]
  },
  {
   "cell_type": "markdown",
   "metadata": {},
   "source": [
    "* 使用seaborn画出论文里带有置信区间的图"
   ]
  },
  {
   "cell_type": "code",
   "execution_count": 17,
   "metadata": {},
   "outputs": [
    {
     "name": "stderr",
     "output_type": "stream",
     "text": [
      "/opt/conda/lib/python3.6/site-packages/IPython/core/interactiveshell.py:3214: FutureWarning: arrays to stack must be passed as a \"sequence\" type such as list or tuple. Support for non-sequence iterables such as generators is deprecated as of NumPy 1.16 and will raise an error in the future.\n",
      "  if (yield from self.run_code(code, result)):\n"
     ]
    },
    {
     "data": {
      "text/plain": [
       "<matplotlib.axes._subplots.AxesSubplot at 0x7fb8517e75f8>"
      ]
     },
     "execution_count": 17,
     "metadata": {},
     "output_type": "execute_result"
    },
    {
     "data": {
      "image/png": "[encoded data removed]",
      "text/plain": [
       "<Figure size 432x288 with 1 Axes>"
      ]
     },
     "metadata": {
      "needs_background": "light"
     },
     "output_type": "display_data"
    }
   ],
   "source": [
    "num_fig = 5\n",
    "start, end = -1, 1\n",
    "x_list_sub = lambda x, y : np.arange(x, y, 0.1)\n",
    "x_list_target = np.stack((x_list_sub(start, end) for _ in range(num_fig)), axis=1).flatten()\n",
    "y_list_target = x_list_target ** 2 + np.random.randn(x_list_target.shape[0]) * 0.2\n",
    "data = pd.DataFrame(data=dict(x=x_list_target, y=y_list_target))\n",
    "sns.lineplot(x=\"x\", y=\"y\", data=data, color=\"g\")"
   ]
  },
  {
   "cell_type": "markdown",
   "metadata": {},
   "source": [
    "## <span id = \"last\">其他操作</span>"
   ]
  },
  {
   "cell_type": "markdown",
   "metadata": {},
   "source": [
    "* 对axis = 0,或axis = 1 的理解<br>\n",
    "    都表示跨越，0跨行，1跨列"
   ]
  },
  {
   "cell_type": "code",
   "execution_count": 18,
   "metadata": {},
   "outputs": [
    {
     "name": "stdout",
     "output_type": "stream",
     "text": [
      "[[0 1 2]\n",
      " [3 4 5]\n",
      " [6 7 8]]\n"
     ]
    }
   ],
   "source": [
    "a = np.arange(9).reshape(3,3)\n",
    "print(a)"
   ]
  },
  {
   "cell_type": "code",
   "execution_count": 19,
   "metadata": {},
   "outputs": [
    {
     "name": "stdout",
     "output_type": "stream",
     "text": [
      "0跨行: [ 9 12 15]\n",
      "1跨列: [ 3 12 21]\n"
     ]
    }
   ],
   "source": [
    "print(\"0跨行:\",a.sum(0))\n",
    "print(\"1跨列:\",a.sum(1))"
   ]
  },
  {
   "cell_type": "code",
   "execution_count": 20,
   "metadata": {},
   "outputs": [
    {
     "name": "stdout",
     "output_type": "stream",
     "text": [
      "总和: 36\n"
     ]
    }
   ],
   "source": [
    "print(\"总和:\",a.sum())"
   ]
  },
  {
   "cell_type": "markdown",
   "metadata": {},
   "source": [
    "* 对函数中\\__len__(self)的理解<br>\n",
    "    重写len方法供调用"
   ]
  },
  {
   "cell_type": "code",
   "execution_count": 21,
   "metadata": {},
   "outputs": [
    {
     "name": "stdout",
     "output_type": "stream",
     "text": [
      "3 3\n"
     ]
    }
   ],
   "source": [
    "class Test():\n",
    "    def __init__(self, *num):\n",
    "        self.nums = num\n",
    "    def __len__(self):\n",
    "        return len(self.nums)\n",
    "\n",
    "test = Test(\"A\",\"B\",\"C\")\n",
    "print(len(test),test.__len__())"
   ]
  },
  {
   "cell_type": "markdown",
   "metadata": {},
   "source": [
    "* \\*args 和 \\*\\*kwargs的异同(some code reference Geeks for Geeks)<br>\n",
    "    都是可变参数的传值，两者都可当正常函数的传值处理<br>\n",
    "    \\*args是不定长的可变参数，而\\*\\*kwargs使用的是类似于元组的key to value的可变参数"
   ]
  },
  {
   "cell_type": "code",
   "execution_count": 22,
   "metadata": {},
   "outputs": [
    {
     "name": "stdout",
     "output_type": "stream",
     "text": [
      "Hello\n",
      "Welcome\n",
      "to\n",
      "HHQ'utils\n"
     ]
    }
   ],
   "source": [
    "#对于*args\n",
    "def myFun(*argv): \n",
    "    for arg in argv:\n",
    "        print(arg)\n",
    "        \n",
    "myFun('Hello', 'Welcome', 'to', 'HHQ\\'utils') "
   ]
  },
  {
   "cell_type": "code",
   "execution_count": 23,
   "metadata": {},
   "outputs": [
    {
     "name": "stdout",
     "output_type": "stream",
     "text": [
      "first == Geeks\n",
      "mid == for\n",
      "last == Geeks\n"
     ]
    }
   ],
   "source": [
    "#对于**kwargs我分为了两种情况:\n",
    "#第一种(定义可变参数函数):\n",
    "def myFun(**kwargs): \n",
    "    for  key, value in kwargs.items():\n",
    "        print(\"%s == %s\"%(key, value))\n",
    "\n",
    "myFun(first ='Geeks', mid ='for', last='Geeks')"
   ]
  },
  {
   "cell_type": "code",
   "execution_count": 24,
   "metadata": {
    "scrolled": true
   },
   "outputs": [
    {
     "name": "stdout",
     "output_type": "stream",
     "text": [
      "the first_list is [1, 2], last_list is [3, 4]\n"
     ]
    }
   ],
   "source": [
    "#第二种(传入可变参数的字典):\n",
    "def myFun(first_list, last_list):\n",
    "    print(\"the first_list is {}, last_list is {}\".format(first_list, last_list))\n",
    "\n",
    "sample = {\"first_list\":[1,2],\"last_list\":[3,4]}\n",
    "myFun(**sample)"
   ]
  },
  {
   "cell_type": "markdown",
   "metadata": {},
   "source": [
    "* 提取list中索引值为奇数或者偶数的数<br>\n",
    "    some_list[start:stop:step]"
   ]
  },
  {
   "cell_type": "code",
   "execution_count": 25,
   "metadata": {},
   "outputs": [
    {
     "data": {
      "text/plain": [
       "array([0, 2, 4, 6])"
      ]
     },
     "execution_count": 25,
     "metadata": {},
     "output_type": "execute_result"
    }
   ],
   "source": [
    "np.arange(8)[::2]"
   ]
  },
  {
   "cell_type": "markdown",
   "metadata": {},
   "source": [
    "* 关于类中方法的错误使用(DDPG 添加Noise的时候发现的)"
   ]
  },
  {
   "cell_type": "code",
   "execution_count": 27,
   "metadata": {},
   "outputs": [
    {
     "data": {
      "image/png": "[encoded data removed]",
      "text/plain": [
       "<Figure size 1152x432 with 2 Axes>"
      ]
     },
     "metadata": {
      "needs_background": "light"
     },
     "output_type": "display_data"
    }
   ],
   "source": [
    "class Test:\n",
    "    def __init__(self):\n",
    "        self.state = np.zeros(1)\n",
    "    \n",
    "    def sample_right(self):\n",
    "        self.state = self.state + np.random.randn(1)\n",
    "        return self.state\n",
    "    \n",
    "    def sample_error(self):\n",
    "        self.state += np.random.randn(1)\n",
    "        return self.state\n",
    "\n",
    "plt.figure(figsize=(16, 6))\n",
    "\n",
    "plt.subplot(121)\n",
    "test = Test()\n",
    "right_sample = [test.sample_right() for _ in range(1000)]\n",
    "error_sample = [test.sample_error() for _ in range(1000)]\n",
    "\n",
    "plt.plot(right_sample, label=\"a\")\n",
    "plt.plot(error_sample, label=\"b\")\n",
    "plt.legend()\n",
    "\n",
    "plt.subplot(122)\n",
    "test1 = Test()\n",
    "right_sample = [test1.sample_right()[0] for _ in range(1000)]\n",
    "error_sample = [test1.sample_error()[0] for _ in range(1000)]\n",
    "\n",
    "plt.plot(right_sample, label=\"a\")\n",
    "plt.plot(error_sample, label=\"b\")\n",
    "plt.legend()\n",
    "\n",
    "plt.show()"
   ]
  },
  {
   "cell_type": "markdown",
   "metadata": {},
   "source": [
    "从一个.py文件中引入其中的类使用:<br>\n",
    "from xx import class_name<br>\n",
    "使用import xxx<br>\n",
    "都在__init__()写了东西<br>\n",
    "### 值得去查查"
   ]
  }
 ],
 "metadata": {
  "hide_input": false,
  "kernelspec": {
   "display_name": "Python 3",
   "language": "python",
   "name": "python3"
  },
  "language_info": {
   "codemirror_mode": {
    "name": "ipython",
    "version": 3
   },
   "file_extension": ".py",
   "mimetype": "text/x-python",
   "name": "python",
   "nbconvert_exporter": "python",
   "pygments_lexer": "ipython3",
   "version": "3.6.8"
  },
  "varInspector": {
   "cols": {
    "lenName": 16,
    "lenType": 16,
    "lenVar": 40
   },
   "kernels_config": {
    "python": {
     "delete_cmd_postfix": "",
     "delete_cmd_prefix": "del ",
     "library": "var_list.py",
     "varRefreshCmd": "print(var_dic_list())"
    },
    "r": {
     "delete_cmd_postfix": ") ",
     "delete_cmd_prefix": "rm(",
     "library": "var_list.r",
     "varRefreshCmd": "cat(var_dic_list()) "
    }
   },
   "types_to_exclude": [
    "module",
    "function",
    "builtin_function_or_method",
    "instance",
    "_Feature"
   ],
   "window_display": false
  }
 },
 "nbformat": 4,
 "nbformat_minor": 2
}
