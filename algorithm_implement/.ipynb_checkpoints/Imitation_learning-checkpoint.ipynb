{
 "cells": [
  {
   "cell_type": "markdown",
   "metadata": {},
   "source": [
    "### 模仿学习(Imitation Learning)\n",
    "1. Implementation\n",
    "    1. 行为克隆(Behavior Cloning)\n",
    "    2. 反向强化学习(Inverse Reinforcement Learning)\n",
    "2. Scope of application\n",
    "    1. Agent can interact with the environment, but cannot explicity obtain reward.\n",
    "    2. In some tasks, it's hard to define reward\n",
    "    3. hand-cradted rewards has it limit.\n",
    "\n",
    "#### Behavior Cloning : supervised learning\n",
    "    input : state\n",
    "    label : action at this state\n",
    "    Problem : 有些state根本没有遇到过，遇到这些state，agent将无法做出正确的action\n",
    "              由于是学习人的行为，有些无意义的行为会被学到\n",
    "#### Inverse Reinforcement Learning(IRL): Learn from reward function\n",
    "1. Learning from Sampled Trajectories\n",
    "    1. input : Trajectories of the expert and Trajectories of the Actor\n",
    "    2. output : Reward Function\n",
    "    3. 使用训练好的 Reward Function 训练 Actor 网络, Trajectories of the Actor。input重新训练reward function。如此循环\n",
    "    4. Problem : 专家的policy可能会对应多个不同的reward functions.\n",
    "<br>\n",
    "    5. 公式如下($\\pi_E$是专家策略, $\\cal{C}$为损失函数，$\\prod$为所有随机策略的集和)\n",
    "$$\n",
    "{maximize \\\\ c\\in \\cal{C}}\\bigg({\\min_{\\pi\\in\\prod}}-H(\\pi)+\\mathbb{E}_\\pi[c(s,a)]\\bigg)-\\mathbb{E_{\\pi_E}}[c(s,a)]\n",
    "$$\n",
    "其中,\n",
    "$$\n",
    "H(\\pi)\\triangleq \\mathbb{E}_\\pi[-\\log\\pi(a|s)]\n",
    "$$\n",
    "2. 对于有限空间(tabular space)\n",
    "    1. 公式如下 (P_a : 概率矩阵, optimal policy : a_1):\n",
    "$$\n",
    "\\frac{P_{a_1}-P_a}{I-\\gamma P_{a_1}}R\\succeq 0\n",
    "$$\n",
    "    2. 让奖励值函数变得更加简单，相当于监督学习中的正则化\n",
    "<img src=\"../assets/IRL_fitune_lambda.png\" width=500>\n",
    "\n",
    "#### Generative Adversarial Imitation Learning : Learn the policy\n"
   ]
  }
 ],
 "metadata": {
  "hide_input": false,
  "kernelspec": {
   "display_name": "Python 3",
   "language": "python",
   "name": "python3"
  },
  "language_info": {
   "codemirror_mode": {
    "name": "ipython",
    "version": 3
   },
   "file_extension": ".py",
   "mimetype": "text/x-python",
   "name": "python",
   "nbconvert_exporter": "python",
   "pygments_lexer": "ipython3",
   "version": "3.6.8"
  },
  "varInspector": {
   "cols": {
    "lenName": 16,
    "lenType": 16,
    "lenVar": 40
   },
   "kernels_config": {
    "python": {
     "delete_cmd_postfix": "",
     "delete_cmd_prefix": "del ",
     "library": "var_list.py",
     "varRefreshCmd": "print(var_dic_list())"
    },
    "r": {
     "delete_cmd_postfix": ") ",
     "delete_cmd_prefix": "rm(",
     "library": "var_list.r",
     "varRefreshCmd": "cat(var_dic_list()) "
    }
   },
   "types_to_exclude": [
    "module",
    "function",
    "builtin_function_or_method",
    "instance",
    "_Feature"
   ],
   "window_display": false
  }
 },
 "nbformat": 4,
 "nbformat_minor": 2
}
