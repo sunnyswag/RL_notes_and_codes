{
 "cells": [
  {
   "cell_type": "markdown",
   "metadata": {},
   "source": [
    "首先说明一下Actor-critic是一系列算法，或者说Actor-critic是一种思想。演员评论家的思想，通过评论家来指导演员的行为,使学习更加有效率.\n",
    "\n",
    "所以会有一系列的变种，Advantage Actor-critic(A2C),Asynchronous Actor-Critic Agents(A3C)\n",
    "\n",
    "最开始的AC我并没有找到论文,只找到了[这本书](https://papers.nips.cc/paper/1786-actor-critic-algorithms.pdf),所以我这次就实现A2C了.\n",
    "\n",
    "最开始的Actor-critic使用的Actor网络是REINFORCE,之后再转换到Policy Gradient，再到$\\delta_v$,三者最主要的区别为\n",
    "\n",
    "REINFORCE使用$V$,Policy Gradient使用$\\hat{A}(s,a)=Q(s,a)-V(s)$,而$\\delta_v=r+\\gamma V_v(s')-V_v(s)$来替换如下的$\\square$处:\n",
    "\n",
    "$$\\theta_{t+1} = \\theta_t +\\alpha\\square\\nabla_\\theta \\log\\pi_\\theta(s|a)$$"
   ]
  },
  {
   "cell_type": "markdown",
   "metadata": {},
   "source": [
    "在理解$\\hat{A}(s,a)=Q(s,a)-V(s)$的过程中，产生了一些疑惑。因为实际 $V$ 值是通过神经网络返回单值获取的，代表当前状态的价值。而目标 $V$ 值\n",
    "\n",
    "的计算是reward序列的加权累加所得的。所以TD error就这么产生了\n",
    "\n",
    "联系到 DuelingDQN，$Q(s,a)=A(s,a)-V(s)$，其V值使用的是实际的V值，因为Q-learning系列算法使用的都是TD(1)的更新方式，不存在目标 $V$ 值的出现\n",
    "\n",
    "贴上V和Q的计算公式吧，以免日后忘记([参考于此](https://datascience.stackexchange.com/questions/9832/what-is-the-q-function-and-what-is-the-v-function-in-reinforcement-learning))\n",
    "$$V^\\pi(s)=\\mathbb{E}_\\pi[G_t|s_t=s]$$\n",
    "$$Q^\\pi(s,a)=\\mathbb{E}_\\pi[G_t|s_t=s,a_t=a]$$\n",
    "V和Q的关系($\\pi$为概率):\n",
    "$$V^\\pi(s)=\\sum_{a \\in A}\\pi(a|s) * Q^\\pi(a,s)$$\n",
    "V为所以Q采取状态的加权总和，通过上面的公式很难知道两者的区别，顶多就是一个和action有关，一个和action无关所以我们将Q定义的更加具体:\n",
    "$$Q(s,a)=r(s,a)+\\gamma V^∗(\\delta(s,a))$$\n",
    "其中 $V^*$ 为在某个状态所采取的最佳action\n",
    "$$V^*(s) = {\\max_{a'}}Q(s,a')$$\n",
    "于是可以将$Q(s,a)$表示为:\n",
    "$$Q(s,a)=r(s,a)+\\gamma {\\max_{a′}}Q(\\delta(s,a),a′)$$"
   ]
  },
  {
   "cell_type": "markdown",
   "metadata": {},
   "source": [
    "算法伪代码:<br>\n",
    "Input a differentiable policy parameterization $\\pi(a|s,\\theta_\\pi)$<br>\n",
    "Input a differentiable state-value parameterization $\\hat{v}(s, \\theta_{\\hat{v}})$<br>\n",
    "Select step-size parameters $0<\\alpha_\\pi,\\alpha_{\\hat{v}}\\leq 1$<br>\n",
    "Initialize the parameters $\\theta_{pi}, \\theta_{\\hat{v}}$<br>\n",
    "Loop through $n$ episodes (or forever):<br>\n",
    "&nbsp;&nbsp;&nbsp; Begin the episode $s_0$<br>\n",
    "&nbsp;&nbsp;&nbsp; Continue to loop until the episode ends:<br>\n",
    "&nbsp;&nbsp;&nbsp;&nbsp;&nbsp;&nbsp; Get action $A_t$ from $\\pi$:$\\pi(S_t,\\theta_\\pi) \\to A_t$<br>\n",
    "&nbsp;&nbsp;&nbsp;&nbsp;&nbsp;&nbsp; Take action $A_t$ and observe reward ($R_t$) and the new state($S_{t+1}$)<br>\n",
    "&nbsp;&nbsp;&nbsp;&nbsp;&nbsp;&nbsp; Calculate the TD target:$G_t \\leftarrow R_t + \\gamma \\hat{v}(S_{t+1},\\theta_{\\hat{v}})$<br>\n",
    "&nbsp;&nbsp;&nbsp;&nbsp;&nbsp;&nbsp; Calculate the TD error:$\\delta_t\\leftarrow R_t +\\gamma\\hat{v}(S_{t+1},\\theta_{\\hat{v}})-\\hat{v}(S_t,\\theta_{\\hat{v}})$<br>\n",
    "&nbsp;&nbsp;&nbsp;&nbsp;&nbsp;&nbsp; Calculate the critic loss $L(\\theta_{\\hat{v}})=\\frac{1}{T}\\sum^T_{t=1}(\\hat{v}(S_t,\\theta_\\hat{v})-G_t)^2$<br>\n",
    "&nbsp;&nbsp;&nbsp;&nbsp;&nbsp;&nbsp; Calculate the actor loss $L(\\theta\\pi)=-\\sum^T_{t=1}ln(\\pi(A_t|S_t,\\theta_\\pi))\\delta_t$<br>\n",
    "&nbsp;&nbsp;&nbsp;&nbsp;&nbsp;&nbsp; Update actor parameters through backpropagation:$\\theta_\\pi:=\\theta_\\pi+\\alpha_\\pi\\nabla_\\pi L(\\theta_\\pi)$<br>\n",
    "&nbsp;&nbsp;&nbsp;&nbsp;&nbsp;&nbsp; Update critic parameters through backpropagation:$\\theta_{\\hat{v}}:=\\theta_{\\hat{v}}+\\alpha_{\\hat{v}}\\nabla_{\\hat{v}}L(\\theta_{\\hat{v}})$"
   ]
  },
  {
   "cell_type": "markdown",
   "metadata": {},
   "source": [
    "![actor_critic_image](../assets/actor_critic_image.png)<br>\n",
    "在真正实现的时候，TD target使用的是每次奖励乘上折扣值的和也就是$G_t$\n",
    "\n",
    "而TD error中的 $\\hat{v}(S_t,\\theta_{\\hat{v}})$指的是当前状态的V值\n",
    "\n",
    "在计算Loss的时候我们会将$L(\\theta\\pi)$,$L(\\theta_{\\hat{v}})$相加并再加上一个熵(entropy)函数$H(\\pi)=-\\sum^n_{i=1} P(x_i)log_b(P(x_i)))$<br>\n",
    "公式中$P(x_i)$为动作i的概率，$log_b$中的b为动作的状态空间\n",
    "\n",
    "所以总的Loss funciton为:\n",
    "$$L = 0.5 * \\frac{1}{T}\\sum^T_{t=1}(\\hat{v}(S_t,\\theta_\\hat{v})-G_t)^2  -\\sum^T_{t=1}ln(\\pi(A_t|S_t,\\theta_\\pi))\\delta_t - \\beta * H(\\pi)$$\n",
    "\n",
    "在动作sample的时候使用的虽然是actor，但计算Loss的时候加上了critic loss。这样一来，就可以理解critic为什么对actor有指导作用了。actor sample了不好的action,会造成较高的critic loss,由此对actor进行惩罚。反之，critic loss较低，对actor进行奖励(此处的奖励和惩罚是相对的)。\n",
    "但是，critic不一定就是正确的。在critic成熟之前，必须要做出更多的探索，不然会容易会陷入局部。由此有了熵函数的出现。\n",
    "\n",
    "由熵函数定义和下图可知: 以二元分布为例，当两者被sample的概率相等时(熵函数的目标是达到这种状态)，熵函数是最大的。当两者被sample的概率一个为0一个为1时熵函数是最小的。加到损失函数中时会乘上-1，则相反。由此，当分布过于极端(一个为0，一个为1)时会得到较高的loss，将参数重重地更新一次。"
   ]
  },
  {
   "cell_type": "code",
   "execution_count": 1,
   "metadata": {},
   "outputs": [
    {
     "data": {
      "image/png": "[encoded data removed]",
      "text/plain": [
       "<Figure size 432x288 with 1 Axes>"
      ]
     },
     "metadata": {
      "needs_background": "light"
     },
     "output_type": "display_data"
    }
   ],
   "source": [
    "import numpy as np\n",
    "import matplotlib.pyplot as plt\n",
    "%matplotlib inline\n",
    "x = np.arange(0.01,1,0.01)\n",
    "y = lambda x :-(x * np.log2(x)+(1-x)*np.log2(1-x))\n",
    "plt.xlabel('$P(x=0)=α$')\n",
    "plt.ylabel('H(Π)')\n",
    "plt.title('The distribution of H(Π) (When the probability of X=0 equal α,and the X=1 equal 1-α)')\n",
    "plt.plot(x, y(x))\n",
    "plt.show()"
   ]
  }
 ],
 "metadata": {
  "kernelspec": {
   "display_name": "Python 3",
   "language": "python",
   "name": "python3"
  },
  "language_info": {
   "codemirror_mode": {
    "name": "ipython",
    "version": 3
   },
   "file_extension": ".py",
   "mimetype": "text/x-python",
   "name": "python",
   "nbconvert_exporter": "python",
   "pygments_lexer": "ipython3",
   "version": "3.5.2"
  }
 },
 "nbformat": 4,
 "nbformat_minor": 2
}
