{
 "cells": [
  {
   "cell_type": "code",
   "execution_count": 1,
   "metadata": {},
   "outputs": [],
   "source": [
    "import gym\n",
    "import numpy as np\n",
    "import torch\n",
    "import torch.nn as nn\n",
    "import torch.optim as optim\n",
    "import torch.nn.functional as F\n",
    "from torch.distributions import Categorical\n",
    "from torch.utils.data.sampler import BatchSampler, SubsetRandomSampler\n",
    "import matplotlib.pyplot as plt\n",
    "from collections import namedtuple\n",
    "from IPython.display import clear_output\n",
    "from statistics import mean\n",
    "from torch.utils.tensorboard import SummaryWriter\n",
    "import time\n",
    "import os"
   ]
  },
  {
   "cell_type": "code",
   "execution_count": 2,
   "metadata": {},
   "outputs": [],
   "source": [
    "class Actor_critic(nn.Module):\n",
    "    def __init__(self, in_dim, out_dim, hidden_layer=64):\n",
    "        super(Actor_critic, self).__init__()\n",
    "        \n",
    "        self.critic_net = nn.Sequential(\n",
    "            nn.Linear(in_dim, hidden_layer),\n",
    "            nn.Tanh(),\n",
    "            nn.Linear(hidden_layer, hidden_layer),\n",
    "            nn.Tanh(),\n",
    "            nn.Linear(hidden_layer, 1)\n",
    "        )\n",
    "        \n",
    "        self.actor_net = nn.Sequential(\n",
    "            nn.Linear(in_dim, hidden_layer),\n",
    "            nn.Tanh(),\n",
    "            nn.Linear(hidden_layer, hidden_layer),\n",
    "            nn.Tanh(),\n",
    "            nn.Linear(hidden_layer, out_dim),\n",
    "            nn.Softmax()\n",
    "        )\n",
    "    \n",
    "    def forward(self, x):\n",
    "        value = self.critic_net(x)\n",
    "        probs = self.actor_net(x)\n",
    "        \n",
    "        return Categorical(probs), value"
   ]
  },
  {
   "cell_type": "code",
   "execution_count": 3,
   "metadata": {
    "jupyter": {
     "source_hidden": true
    }
   },
   "outputs": [],
   "source": [
    "def smooth_plot(factor, item, plot_decay):\n",
    "    item_x = np.arange(len(item))\n",
    "    item_smooth = [np.mean(item[i:i+factor]) if i > factor else np.mean(item[0:i+1])\n",
    "                  for i in range(len(item))]\n",
    "    for i in range(len(item)// plot_decay):\n",
    "        item_x = item_x[::2]\n",
    "        item_smooth = item_smooth[::2]\n",
    "    return item_x, item_smooth\n",
    "    \n",
    "def plot(episode, rewards, losses, episode_steps):\n",
    "    clear_output(True)\n",
    "    rewards_x, rewards_smooth = smooth_plot(10, rewards, 1000)\n",
    "    losses_x, losses_smooth = smooth_plot(10, losses, 1000)\n",
    "    episode_steps_x, episode_steps_smooth = smooth_plot(10, episode_steps, 1000)\n",
    "    \n",
    "    plt.figure(figsize=(18, 12))\n",
    "    plt.subplot(311)\n",
    "    plt.title('Episode %s. reward: %s'%(episode, rewards_smooth[-1]))\n",
    "    plt.plot(rewards, label=\"Rewards\", color='lightsteelblue', linewidth='1')\n",
    "    plt.plot(rewards_x, rewards_smooth, label='Smothed_Rewards', color='darkorange', linewidth='3')\n",
    "    plt.legend(loc='best')\n",
    "    \n",
    "    plt.subplot(312)\n",
    "    plt.title('Losses')\n",
    "    plt.plot(losses, label=\"Losses\", color='lightsteelblue', linewidth='1')\n",
    "    plt.plot(losses_x, losses_smooth, \n",
    "             label=\"Smoothed_Losses\", color='darkorange', linewidth='3')\n",
    "    plt.legend(loc='best')\n",
    "    \n",
    "    plt.subplot(313)\n",
    "    plt.title('Episode_Steps %s. Steps: %s'%(episode, episode_steps_smooth[-1]))\n",
    "    plt.plot(episode_steps, label=\"Episode_Steps\", color='lightsteelblue', linewidth='1')\n",
    "    plt.plot(episode_steps_x, episode_steps_smooth, \n",
    "             label=\"Episode_Steps_Losses\",color='darkorange',linewidth='3')\n",
    "    plt.legend(loc='best')\n",
    "    \n",
    "    plt.show()"
   ]
  },
  {
   "cell_type": "code",
   "execution_count": 4,
   "metadata": {},
   "outputs": [],
   "source": [
    "## hyperparameters\n",
    "\n",
    "# env_name = \"LunarLander-v2\"\n",
    "env_name = \"CartPole-v0\"\n",
    "algorithm_id = \"PPO2_stable\"\n",
    "\n",
    "current_time = time.strftime('%Y-%m-%d_%H:%M:%S',time.localtime(time.time()))\n",
    "ROOT_DIR = \"./running_log/{}/{}/{}\".format(algorithm_id, env_name, current_time)\n",
    "model_dir = os.path.join(ROOT_DIR, \"model\")\n",
    "plot_dir = os.path.join(ROOT_DIR, \"tensorboard\")\n",
    "os.makedirs(model_dir)\n",
    "os.makedirs(plot_dir)\n",
    "writer = SummaryWriter(plot_dir)\n",
    "\n",
    "max_epoch = 2000\n",
    "num_timesteps = 300\n",
    "clip_param = 0.2\n",
    "ppo_epochs = 4\n",
    "gamma = 0.99\n",
    "learning_rate = 0.002\n",
    "betas = (0.9, 0.999)\n",
    "update_timestep = 2000\n",
    "\n",
    "## hyperparameters\n",
    "\n",
    "device = torch.device(\"cuda\" if torch.cuda.is_available() else \"cpu\")\n",
    "\n",
    "env = gym.make(env_name)\n",
    "\n",
    "in_dim = env.observation_space.shape[0]\n",
    "out_dim = env.env.action_space.n\n",
    "network = Actor_critic(in_dim, out_dim).to(device)\n",
    "old_network = Actor_critic(in_dim, out_dim).to(device)\n",
    "old_network.load_state_dict(network.state_dict())\n",
    "\n",
    "optimizer = optim.Adam(network.parameters(), lr=learning_rate, betas=betas)\n",
    "\n",
    "Trajectory = namedtuple('Trajectory', ['state', 'action', 'reward', 'done', 'log_prob'])\n",
    "buffer = []"
   ]
  },
  {
   "cell_type": "code",
   "execution_count": 5,
   "metadata": {},
   "outputs": [],
   "source": [
    "def choose_action(state):\n",
    "    state = torch.FloatTensor(state).to(device)\n",
    "    with torch.no_grad():\n",
    "        dist, value = old_network(state)\n",
    "    action = dist.sample()\n",
    "    next_state, reward, done, _ = env.step(action.item())\n",
    "\n",
    "    buffer.append(Trajectory(state, action, reward, done, dist.log_prob(action)))\n",
    "    \n",
    "    return next_state, reward, done"
   ]
  },
  {
   "cell_type": "code",
   "execution_count": 6,
   "metadata": {},
   "outputs": [],
   "source": [
    "def ppo_train(next_state, update_time):\n",
    "    \n",
    "    losses = []\n",
    "    \n",
    "    state = torch.stack([t.state for t in buffer])\n",
    "    action = torch.stack([t.action for t in buffer])\n",
    "    reward = [t.reward for t in buffer]\n",
    "    dones = [t.done for t in buffer]\n",
    "    old_log_prob = torch.stack([t.log_prob for t in buffer])\n",
    "    \n",
    "    Gt, R = [], 0\n",
    "    # done 掉之后，整条路径要重新计算\n",
    "    for r, done in zip(reversed(reward), reversed(dones)):\n",
    "        if done:\n",
    "            R = 0\n",
    "        R = r + gamma * R\n",
    "        Gt.insert(0, R)\n",
    "    # 计算之后Gt的维度为[1, ...], 和value运算会广播\n",
    "    Gt = torch.FloatTensor(Gt).to(device)\n",
    "    Gt = (Gt - Gt.mean()) / (Gt.std() + 1e-5)\n",
    "    \n",
    "    for _ in range(ppo_epochs):\n",
    "        dist, value = network(state)\n",
    "        entropy = dist.entropy().mean()\n",
    "        advantage = Gt - value.squeeze().detach()\n",
    "\n",
    "        action_prob =  dist.log_prob(action)\n",
    "\n",
    "        ratio = torch.exp(action_prob - old_log_prob.detach())\n",
    "        surr1 = ratio * advantage\n",
    "        surr2 = torch.clamp(ratio, 1 - clip_param, 1 + clip_param) * advantage\n",
    "        actor_loss = - torch.min(surr1, surr2).mean()\n",
    "\n",
    "        critic_loss = (Gt - value).pow(2).mean()\n",
    "\n",
    "        loss = 0.5 * critic_loss + actor_loss - 0.01 * entropy\n",
    "        losses.append(loss.item())\n",
    "\n",
    "        optimizer.zero_grad()\n",
    "        loss.backward()\n",
    "        optimizer.step()\n",
    "\n",
    "    old_network.load_state_dict(network.state_dict())\n",
    "    del buffer[:]\n",
    "    \n",
    "    writer.add_scalar(\"Loss\", np.array(losses).mean(), update_time)"
   ]
  },
  {
   "cell_type": "markdown",
   "metadata": {},
   "source": [
    "batch_size设置过大，会导致done掉了，但是和环境互动的step不够，不能做到持续学习，持续更新，而等到更新时，经验过于陈旧，导致新旧log_prob相差较大，无法正常学习"
   ]
  },
  {
   "cell_type": "code",
   "execution_count": 7,
   "metadata": {},
   "outputs": [
    {
     "name": "stderr",
     "output_type": "stream",
     "text": [
      "/opt/conda/lib/python3.6/site-packages/torch/nn/modules/container.py:92: UserWarning: Implicit dimension choice for softmax has been deprecated. Change the call to include dim=X as an argument.\n",
      "  input = module(input)\n",
      "/opt/conda/lib/python3.6/site-packages/torch/serialization.py:256: UserWarning: Couldn't retrieve source code for container of type Actor_critic. It won't be checked for correctness upon loading.\n",
      "  \"type \" + obj.__name__ + \". It won't be checked \"\n"
     ]
    }
   ],
   "source": [
    "update_time, timestep, done_time = 0, 0, 0\n",
    "\n",
    "\n",
    "for epoch in range(max_epoch):\n",
    "    \n",
    "    state = env.reset()\n",
    "    rewards = 0\n",
    "    \n",
    "    for i in range(num_timesteps):\n",
    "        timestep += 1\n",
    "        \n",
    "        next_state, reward, done = choose_action(state)\n",
    "        \n",
    "        state = next_state\n",
    "        rewards += reward\n",
    "        \n",
    "        if timestep % update_timestep == 0:\n",
    "            ppo_train(next_state, update_time)\n",
    "            update_time += 1\n",
    "            timestep = 0\n",
    "        \n",
    "        if done :\n",
    "            writer.add_scalar(\"Episode_Steps\", i, done_time)\n",
    "            done_time += 1\n",
    "            break\n",
    "    \n",
    "    writer.add_scalar(\"Rewards\", rewards, epoch)\n",
    "torch.save(network, model_dir + \"/model.pth\")"
   ]
  },
  {
   "cell_type": "code",
   "execution_count": 8,
   "metadata": {},
   "outputs": [],
   "source": [
    "# torch.save(old_network.state_dict(), \"./model/LunarLander-v2_PPO2.pth\")"
   ]
  },
  {
   "cell_type": "code",
   "execution_count": 9,
   "metadata": {},
   "outputs": [],
   "source": [
    "# env_name = \"LunarLander-v2\"\n",
    "# env = gym.make(env_name)\n",
    "# in_dim = env.observation_space.shape[0]\n",
    "# out_dim = env.env.action_space.n\n",
    "test_episodes = 100\n",
    "test_steps = 300\n",
    "\n",
    "def test_ppo():\n",
    "    test_rewards = []\n",
    "    # network = Actor_critic(in_dim, out_dim).to(device)\n",
    "    # network.load_state_dict(torch.load(\"./model/LunarLander-v2_PPO2.pth\"))\n",
    "    for _ in range(test_episodes):\n",
    "        state = env.reset()\n",
    "        rewards = 0\n",
    "        for _ in range(test_steps):\n",
    "            state = torch.FloatTensor(state).to(device)\n",
    "            with torch.no_grad():\n",
    "                dist, value = old_network(state)\n",
    "            action = dist.probs.argmax()\n",
    "            next_state, reward, done, _ = env.step(action.item())\n",
    "            state = next_state\n",
    "            rewards += reward\n",
    "            if done: break\n",
    "            \n",
    "        test_rewards.append(rewards)\n",
    "    return test_rewards"
   ]
  },
  {
   "cell_type": "code",
   "execution_count": 10,
   "metadata": {},
   "outputs": [
    {
     "data": {
      "text/plain": [
       "[<matplotlib.lines.Line2D at 0x7f11d75a0f60>]"
      ]
     },
     "execution_count": 10,
     "metadata": {},
     "output_type": "execute_result"
    },
    {
     "data": {
      "image/png": "[encoded data removed]",
      "text/plain": [
       "<Figure size 432x288 with 1 Axes>"
      ]
     },
     "metadata": {
      "needs_background": "light"
     },
     "output_type": "display_data"
    }
   ],
   "source": [
    "test_result = test_ppo()\n",
    "plt.title(\"Average reward : {}\".format(np.array(test_result).mean()))\n",
    "plt.plot(test_result)"
   ]
  },
  {
   "cell_type": "markdown",
   "metadata": {},
   "source": [
    "Reference:<br>\n",
    "[https://github.com/nikhilbarhate99/PPO-PyTorch/blob/master/PPO.py](https://github.com/nikhilbarhate99/PPO-PyTorch/blob/master/PPO.py)<br>\n",
    "[https://github.com/sweetice/Deep-reinforcement-learning-with-pytorch/tree/master/Char07%20PPO](https://github.com/sweetice/Deep-reinforcement-learning-with-pytorch/tree/master/Char07%20PPO)<br>"
   ]
  }
 ],
 "metadata": {
  "hide_input": false,
  "kernelspec": {
   "display_name": "Python 3",
   "language": "python",
   "name": "python3"
  },
  "language_info": {
   "codemirror_mode": {
    "name": "ipython",
    "version": 3
   },
   "file_extension": ".py",
   "mimetype": "text/x-python",
   "name": "python",
   "nbconvert_exporter": "python",
   "pygments_lexer": "ipython3",
   "version": "3.6.9"
  },
  "varInspector": {
   "cols": {
    "lenName": 16,
    "lenType": 16,
    "lenVar": 40
   },
   "kernels_config": {
    "python": {
     "delete_cmd_postfix": "",
     "delete_cmd_prefix": "del ",
     "library": "var_list.py",
     "varRefreshCmd": "print(var_dic_list())"
    },
    "r": {
     "delete_cmd_postfix": ") ",
     "delete_cmd_prefix": "rm(",
     "library": "var_list.r",
     "varRefreshCmd": "cat(var_dic_list()) "
    }
   },
   "types_to_exclude": [
    "module",
    "function",
    "builtin_function_or_method",
    "instance",
    "_Feature"
   ],
   "window_display": false
  }
 },
 "nbformat": 4,
 "nbformat_minor": 4
}
