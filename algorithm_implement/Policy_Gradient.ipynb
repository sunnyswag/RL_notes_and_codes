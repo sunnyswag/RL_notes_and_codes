{
 "cells": [
  {
   "cell_type": "markdown",
   "metadata": {},
   "source": [
    "更新规则:\n",
    "$$\n",
    "\\theta_{t+1} = \\theta_t +\\alpha \\frac{\\hat{A}(s,a)\\nabla\\pi_{\\theta_t}(a|s)}{\\pi_\\theta(a|s)}\\\\\n",
    "\\theta_{t+1} = \\theta_t +\\alpha\\hat{A}(s,a)\\nabla_\\theta \\log\\pi_\\theta(s|a)\n",
    "$$\n",
    "Loss function:\n",
    "$$\n",
    "-\\hat{A}(s,a)\\log\\pi(s|a)\n",
    "$$\n",
    "1.$\\hat{A}(s,a)$为advantage function,$\\pi_\\theta(s|a)$为在s采取动作a的可能性，可将其导数理解为在s采取动作a这个向量。可以用简单的$f(x)=x$来理解\n",
    "\n",
    "2.除上$\\pi_\\theta(a|s)$是因为让小概率的动作获得较大的增长空间(增长可正可负)\n",
    "\n",
    "3.理解loss function:对loss求导才会有更新操作，所以Loss中没有求导"
   ]
  },
  {
   "cell_type": "code",
   "execution_count": 1,
   "metadata": {},
   "outputs": [],
   "source": [
    "import torch\n",
    "from torch.distributions import Categorical\n",
    "import numpy as np"
   ]
  },
  {
   "cell_type": "code",
   "execution_count": 2,
   "metadata": {},
   "outputs": [
    {
     "name": "stdout",
     "output_type": "stream",
     "text": [
      "1\n",
      "tensor(-1.3762)\n"
     ]
    }
   ],
   "source": [
    "probs = torch.tensor([0.25,0.25,0.25,0.24])\n",
    "m = Categorical(probs)\n",
    "action = m.sample()#对概率矩阵进行sample，返回索引值\n",
    "print(action.item())\n",
    "print(m.log_prob(action))#记录被sample到的action的权重"
   ]
  },
  {
   "cell_type": "code",
   "execution_count": 3,
   "metadata": {},
   "outputs": [
    {
     "data": {
      "text/plain": [
       "1.1920928955078125e-07"
      ]
     },
     "execution_count": 3,
     "metadata": {},
     "output_type": "execute_result"
    }
   ],
   "source": [
    "np.finfo(np.float32).eps.item()"
   ]
  }
 ],
 "metadata": {
  "kernelspec": {
   "display_name": "Python 3",
   "language": "python",
   "name": "python3"
  },
  "language_info": {
   "codemirror_mode": {
    "name": "ipython",
    "version": 3
   },
   "file_extension": ".py",
   "mimetype": "text/x-python",
   "name": "python",
   "nbconvert_exporter": "python",
   "pygments_lexer": "ipython3",
   "version": "3.5.2"
  }
 },
 "nbformat": 4,
 "nbformat_minor": 2
}
