{
 "cells": [
  {
   "cell_type": "code",
   "execution_count": 15,
   "metadata": {},
   "outputs": [],
   "source": [
    "import gym\n",
    "import numpy as np\n",
    "from torch.utils.tensorboard import SummaryWriter\n",
    "import torch\n",
    "import time\n",
    "import os\n",
    "\n",
    "import sys\n",
    "sys.path.append(\"../utils/\")\n",
    "from normalize_action import NormalizeActions\n",
    "from replay_buffer import ReplayBuffer\n",
    "from DDPG import DDPG"
   ]
  },
  {
   "cell_type": "code",
   "execution_count": 2,
   "metadata": {},
   "outputs": [],
   "source": [
    "## hyperparameter\n",
    "env_name = \"MountainCarContinuous-v0\"\n",
    "\n",
    "current_time = time.strftime('%Y-%m-%d_%H:%M:%S',time.localtime(time.time()))\n",
    "ROOT_DIR = \"../test_log/DDPG_for_mountian_car/noise_and_step_{}\".format(current_time)\n",
    "model_dir = os.path.join(ROOT_DIR, \"model\")\n",
    "plot_dir = os.path.join(ROOT_DIR, \"tensorboard\")\n",
    "os.makedirs(model_dir)\n",
    "os.makedirs(plot_dir)\n",
    "\n",
    "buffer_size = 1000000\n",
    "batch_size = 128\n",
    "learning_rate = 1e-3\n",
    "\n",
    "train_episodes = 200\n",
    "train_steps = 1000\n",
    "test_episodes = 100\n",
    "test_steps = 100\n",
    "\n",
    "update_steps = [50, 100, 150, 200, 250, 300]\n",
    "noise_discounts = [0.1, 0.5, 1.0, 1.5, 2.0, 3.0]\n",
    "\n",
    "env = NormalizeActions(gym.make(env_name))\n",
    "in_dim = env.observation_space.shape[0]\n",
    "out_dim = env.action_space.shape[0]\n",
    "device = torch.device(\"cuda:1\" if torch.cuda.is_available() else \"cpu\")\n",
    "replay_buffer = ReplayBuffer(in_dim, batch_size, buffer_size, device)\n",
    "writer = SummaryWriter(plot_dir)\n",
    "\n",
    "ddpg = DDPG(in_dim, out_dim, replay_buffer, device, learning_rate)"
   ]
  },
  {
   "cell_type": "code",
   "execution_count": 3,
   "metadata": {
    "code_folding": []
   },
   "outputs": [],
   "source": [
    "def run_ddpg(ddpg, writer, update_step, noise_discount, current_model_dir):\n",
    "    test = True\n",
    "\n",
    "    for episode in range(train_episodes):\n",
    "        state = env.reset()\n",
    "        episode_reward = 0\n",
    "        for step in range(train_steps):\n",
    "            action1 = ddpg.get_action(state)\n",
    "    \n",
    "            if step % update_step == 0:\n",
    "                test = not test\n",
    "            noise_sample = abs(np.random.randn(1)) * noise_discount\n",
    "            noise = noise_sample if test else -noise_sample\n",
    "            action = action1 + noise\n",
    "\n",
    "            next_state, reward, done, _ = env.step(action.flatten())\n",
    "\n",
    "            ddpg.store(state, action, next_state.flatten(), reward, done)\n",
    "            if ddpg.buffer_size() > batch_size :\n",
    "                value_loss, policy_loss = ddpg.train()\n",
    "\n",
    "            state = next_state\n",
    "            episode_reward += reward\n",
    "        \n",
    "            if done:\n",
    "                break\n",
    "        \n",
    "        writer.add_scalars(\"train_reward/update_step_{}\".format(update_step),\n",
    "                           {\"noise_discount_{}\".format(noise_discount):episode_reward}, episode)\n",
    "        \n",
    "    ddpg.save(current_model_dir)\n",
    "    print(\"Train < update_step : {}, noise_discount : {} > finished !\".format(update_step, noise_discount))\n",
    "\n",
    "def test_ddpg(ddpg, writer, update_step, noise_discount, current_model_dir):\n",
    "    ddpg.load(current_model_dir)\n",
    "    for test_episode in range(test_episodes):\n",
    "        state = env.reset()\n",
    "        rewards = 0\n",
    "        for _ in range(test_steps):\n",
    "            action = ddpg.get_action(state.flatten())\n",
    "            next_state, reward, done, info = env.step(action)\n",
    "            state = next_state\n",
    "            rewards += reward\n",
    "            if done: break\n",
    "        writer.add_scalars(\"test_reward/update_step_{}\".format(update_step),\n",
    "                           {\"noise_discount_{}\".format(noise_discount):rewards}, test_episode)\n",
    "    print(\"Test  < update_step : {}, noise_discount : {} > finished !\".format(update_step, noise_discount))"
   ]
  },
  {
   "cell_type": "code",
   "execution_count": 4,
   "metadata": {
    "jupyter": {
     "source_hidden": true
    }
   },
   "outputs": [],
   "source": [
    "# torch.save(policy_net.state_dict(), \"./model/DDPG_for_mountain_car.pth\")"
   ]
  },
  {
   "cell_type": "code",
   "execution_count": 5,
   "metadata": {
    "code_folding": [
     0
    ],
    "jupyter": {
     "source_hidden": true
    }
   },
   "outputs": [],
   "source": [
    "# policy_net_1 = PolicyNetwork(in_dim, out_dim).to(device)\n",
    "# policy_net_1.load_state_dict(torch.load(\"./model/DDPG_for_mountain_car.pth\"))\n",
    "# policy_net_1.eval()\n",
    "\n",
    "# import pdb\n",
    "# import gym\n",
    "# from IPython import display\n",
    "# import matplotlib\n",
    "# import matplotlib.pyplot as plt\n",
    "# %matplotlib inline\n",
    "\n",
    "# env = gym.make(\"MountainCarContinuous-v0\")\n",
    "# state = env.reset()\n",
    "# img = plt.imshow(env.render(mode='rgb_array')) # only call this once\n",
    "# for _ in range(1000):\n",
    "#     img.set_data(env.render(mode='rgb_array')) # just update the data\n",
    "#     display.display(plt.gcf())\n",
    "#     display.clear_output(wait=True)\n",
    "#     policy_net = policy_net.cpu()\n",
    "    \n",
    "#     action = policy_net(torch.FloatTensor(state)).detach().numpy()\n",
    "#     # action = env.action_space.sample()\n",
    "#     next_state, _, done, _ = env.step(action)\n",
    "#     if done: \n",
    "#         state = env.reset()\n",
    "#     state = next_state\n",
    "    \n",
    "# from gym import wrappers\n",
    "\n",
    "# env = gym.make(\"MountainCarContinuous-v0\")\n",
    "# env = wrappers.Monitor(env, \"./gym-results/DDPG_mountaincar/\", force=True)"
   ]
  },
  {
   "cell_type": "markdown",
   "metadata": {
    "toc-hr-collapsed": false
   },
   "source": [
    "## Test Results"
   ]
  },
  {
   "cell_type": "markdown",
   "metadata": {},
   "source": [
    "#### Plot use tensorboard"
   ]
  },
  {
   "cell_type": "code",
   "execution_count": 6,
   "metadata": {
    "slideshow": {
     "slide_type": "subslide"
    }
   },
   "outputs": [
    {
     "ename": "KeyboardInterrupt",
     "evalue": "",
     "output_type": "error",
     "traceback": [
      "\u001b[0;31m\u001b[0m",
      "\u001b[0;31mKeyboardInterrupt\u001b[0mTraceback (most recent call last)",
      "\u001b[0;32m<ipython-input-6-e3d31207beb9>\u001b[0m in \u001b[0;36m<module>\u001b[0;34m\u001b[0m\n\u001b[1;32m      5\u001b[0m         \u001b[0;31m# train\u001b[0m\u001b[0;34m\u001b[0m\u001b[0;34m\u001b[0m\u001b[0;34m\u001b[0m\u001b[0m\n\u001b[1;32m      6\u001b[0m \u001b[0;34m\u001b[0m\u001b[0m\n\u001b[0;32m----> 7\u001b[0;31m         \u001b[0mrun_ddpg\u001b[0m\u001b[0;34m(\u001b[0m\u001b[0mddpg\u001b[0m\u001b[0;34m,\u001b[0m \u001b[0mwriter\u001b[0m\u001b[0;34m,\u001b[0m \u001b[0mupdate_step\u001b[0m\u001b[0;34m,\u001b[0m \u001b[0mnoise_discount\u001b[0m\u001b[0;34m,\u001b[0m \u001b[0mcurrent_model_dir\u001b[0m\u001b[0;34m)\u001b[0m\u001b[0;34m\u001b[0m\u001b[0;34m\u001b[0m\u001b[0m\n\u001b[0m\u001b[1;32m      8\u001b[0m \u001b[0;34m\u001b[0m\u001b[0m\n\u001b[1;32m      9\u001b[0m         \u001b[0;32mbreak\u001b[0m\u001b[0;34m\u001b[0m\u001b[0;34m\u001b[0m\u001b[0m\n",
      "\u001b[0;32m<ipython-input-3-4d1ca6e86888>\u001b[0m in \u001b[0;36mrun_ddpg\u001b[0;34m(ddpg, writer, update_step, noise_discount, current_model_dir)\u001b[0m\n\u001b[1;32m      6\u001b[0m         \u001b[0mepisode_reward\u001b[0m \u001b[0;34m=\u001b[0m \u001b[0;36m0\u001b[0m\u001b[0;34m\u001b[0m\u001b[0;34m\u001b[0m\u001b[0m\n\u001b[1;32m      7\u001b[0m         \u001b[0;32mfor\u001b[0m \u001b[0mstep\u001b[0m \u001b[0;32min\u001b[0m \u001b[0mrange\u001b[0m\u001b[0;34m(\u001b[0m\u001b[0mtrain_steps\u001b[0m\u001b[0;34m)\u001b[0m\u001b[0;34m:\u001b[0m\u001b[0;34m\u001b[0m\u001b[0;34m\u001b[0m\u001b[0m\n\u001b[0;32m----> 8\u001b[0;31m             \u001b[0maction1\u001b[0m \u001b[0;34m=\u001b[0m \u001b[0mddpg\u001b[0m\u001b[0;34m.\u001b[0m\u001b[0mget_action\u001b[0m\u001b[0;34m(\u001b[0m\u001b[0mstate\u001b[0m\u001b[0;34m)\u001b[0m\u001b[0;34m\u001b[0m\u001b[0;34m\u001b[0m\u001b[0m\n\u001b[0m\u001b[1;32m      9\u001b[0m \u001b[0;34m\u001b[0m\u001b[0m\n\u001b[1;32m     10\u001b[0m             \u001b[0;32mif\u001b[0m \u001b[0mstep\u001b[0m \u001b[0;34m%\u001b[0m \u001b[0mupdate_step\u001b[0m \u001b[0;34m==\u001b[0m \u001b[0;36m0\u001b[0m\u001b[0;34m:\u001b[0m\u001b[0;34m\u001b[0m\u001b[0;34m\u001b[0m\u001b[0m\n",
      "\u001b[0;32m/workspace/RL_notes_and_codes/algorithm_test/DDPG_for_mountian_car/DDPG.py\u001b[0m in \u001b[0;36mget_action\u001b[0;34m(self, state)\u001b[0m\n\u001b[1;32m     55\u001b[0m \u001b[0;34m\u001b[0m\u001b[0m\n\u001b[1;32m     56\u001b[0m     \u001b[0;32mdef\u001b[0m \u001b[0mget_action\u001b[0m\u001b[0;34m(\u001b[0m\u001b[0mself\u001b[0m\u001b[0;34m,\u001b[0m \u001b[0mstate\u001b[0m\u001b[0;34m)\u001b[0m\u001b[0;34m:\u001b[0m\u001b[0;34m\u001b[0m\u001b[0;34m\u001b[0m\u001b[0m\n\u001b[0;32m---> 57\u001b[0;31m         \u001b[0mstate\u001b[0m \u001b[0;34m=\u001b[0m \u001b[0mtorch\u001b[0m\u001b[0;34m.\u001b[0m\u001b[0mtensor\u001b[0m\u001b[0;34m(\u001b[0m\u001b[0mstate\u001b[0m\u001b[0;34m,\u001b[0m \u001b[0mdtype\u001b[0m\u001b[0;34m=\u001b[0m\u001b[0mtorch\u001b[0m\u001b[0;34m.\u001b[0m\u001b[0mfloat\u001b[0m\u001b[0;34m)\u001b[0m\u001b[0;34m.\u001b[0m\u001b[0munsqueeze\u001b[0m\u001b[0;34m(\u001b[0m\u001b[0;36m0\u001b[0m\u001b[0;34m)\u001b[0m\u001b[0;34m.\u001b[0m\u001b[0mto\u001b[0m\u001b[0;34m(\u001b[0m\u001b[0mself\u001b[0m\u001b[0;34m.\u001b[0m\u001b[0mdevice\u001b[0m\u001b[0;34m)\u001b[0m\u001b[0;34m\u001b[0m\u001b[0;34m\u001b[0m\u001b[0m\n\u001b[0m\u001b[1;32m     58\u001b[0m         \u001b[0;32mreturn\u001b[0m \u001b[0mself\u001b[0m\u001b[0;34m.\u001b[0m\u001b[0mpolicy_net\u001b[0m\u001b[0;34m(\u001b[0m\u001b[0mstate\u001b[0m\u001b[0;34m)\u001b[0m\u001b[0;34m.\u001b[0m\u001b[0mdetach\u001b[0m\u001b[0;34m(\u001b[0m\u001b[0;34m)\u001b[0m\u001b[0;34m.\u001b[0m\u001b[0mcpu\u001b[0m\u001b[0;34m(\u001b[0m\u001b[0;34m)\u001b[0m\u001b[0;34m.\u001b[0m\u001b[0mnumpy\u001b[0m\u001b[0;34m(\u001b[0m\u001b[0;34m)\u001b[0m\u001b[0;34m\u001b[0m\u001b[0;34m\u001b[0m\u001b[0m\n\u001b[1;32m     59\u001b[0m \u001b[0;34m\u001b[0m\u001b[0m\n",
      "\u001b[0;31mKeyboardInterrupt\u001b[0m: "
     ]
    }
   ],
   "source": [
    "for update_step in update_steps:\n",
    "    for noise_discount in noise_discounts:\n",
    "        current_model_dir = os.path.join(model_dir, \"update_step_{}_noise_discount_{}\"\n",
    "                                         .format(update_step, noise_discount))\n",
    "        # train\n",
    "        \n",
    "        run_ddpg(ddpg, writer, update_step, noise_discount, current_model_dir)\n",
    "        \n",
    "        break\n",
    "        \n",
    "        # test\n",
    "        \n",
    "        test_ddpg(ddpg, writer, update_step, noise_discount, current_model_dir)"
   ]
  },
  {
   "cell_type": "markdown",
   "metadata": {},
   "source": [
    "#### Plot use seaborn and matplotlib"
   ]
  },
  {
   "cell_type": "code",
   "execution_count": null,
   "metadata": {},
   "outputs": [],
   "source": [
    "# import pandas as pd\n",
    "\n",
    "# train_reward = np.array([])\n",
    "# test_reward = np.array([])\n",
    "\n",
    "# for epoch in range(5):\n",
    "#     # train\n",
    "    \n",
    "#     rewards = run_ddpg(epoch)\n",
    "#     train_reward = np.concatenate((train_reward, rewards))\n",
    "    \n",
    "#     # test\n",
    "    \n",
    "#     rewards = test_ddpg(epoch)\n",
    "#     test_reward = np.concatenate((test_reward, rewards))\n",
    "    \n",
    "# train_x = lambda : np.arange(1, train_episodes+1)\n",
    "# train_list = np.stack((train_x() for _ in range(5)), axis=0).flatten()\n",
    "    \n",
    "# test_x = lambda : np.arange(1, test_episodes+1)\n",
    "# test_list = np.stack((test_x() for _ in range(5)), axis=0).flatten()\n",
    "\n",
    "# train_data = pd.DataFrame(dict(x=train_list, y=train_reward))\n",
    "# test_data = pd.DataFrame(dict(x=test_list, y=test_reward))\n",
    "\n",
    "# train_data.to_csv(\"./test/DDPG_OUnoise/trian_data.csv\", index=False)\n",
    "# test_data.to_csv(\"./test/DDPG_OUnoise/test_data.csv\", index=False)"
   ]
  },
  {
   "cell_type": "code",
   "execution_count": null,
   "metadata": {},
   "outputs": [],
   "source": [
    "# import seaborn as sns; sns.set()\n",
    "# import matplotlib.pyplot as plt\n",
    "# import pandas as pd\n",
    "# DDPG_NO_test_data = pd.read_csv(\"RL_notes_and_codes/algorithm_implement/test/DDPG_Normalnoise/test_data.csv\")\n",
    "# DDPG_NO_train_data = pd.read_csv(\"RL_notes_and_codes/algorithm_implement/test/DDPG_Normalnoise/trian_data.csv\")\n",
    "# DDPG_OU_test_data = pd.read_csv(\"RL_notes_and_codes/algorithm_implement/test/DDPG_OUnoise/test_data.csv\")\n",
    "# DDPG_OU_train_data = pd.read_csv(\"RL_notes_and_codes/algorithm_implement/test/DDPG_OUnoise/trian_data.csv\")"
   ]
  },
  {
   "cell_type": "code",
   "execution_count": null,
   "metadata": {},
   "outputs": [],
   "source": [
    "# DDPG_NO_test_data[\"diff\"] = \"Normalnoise\"\n",
    "# DDPG_NO_train_data[\"diff\"] = \"Normalnoise\"\n",
    "# DDPG_OU_test_data[\"diff\"] = \"OUnoise\"\n",
    "# DDPG_OU_train_data[\"diff\"] = \"OUnoise\""
   ]
  },
  {
   "cell_type": "code",
   "execution_count": null,
   "metadata": {},
   "outputs": [],
   "source": [
    "# DDPG_test_data = pd.concat((DDPG_NO_test_data, DDPG_OU_test_data))\n",
    "# DDPG_train_data = pd.concat((DDPG_NO_train_data, DDPG_OU_train_data))"
   ]
  },
  {
   "cell_type": "code",
   "execution_count": null,
   "metadata": {},
   "outputs": [],
   "source": [
    "# plt.figure(figsize=(16, 8))\n",
    "\n",
    "# plt.subplot(211)\n",
    "# ax = sns.lineplot(x=\"x\", y=\"y\", hue=\"diff\", data=DDPG_test_data)\n",
    "# plt.title(\"Test 5 times Reward of 100 steps for each episode, Avg: Normalnoise {}, OUnoise {}\"\n",
    "#          .format(round(DDPG_test_data[DDPG_test_data['diff']==\"Normalnoise\"]['y'].mean(), 3), \n",
    "#                 round(DDPG_test_data[DDPG_test_data['diff']==\"OUnoise\"]['y'].mean(), 3)))\n",
    "# plt.xlabel(\"episodes\")\n",
    "# plt.ylabel(\"rewards\")\n",
    "\n",
    "# plt.subplot(212)\n",
    "# ax = sns.lineplot(x=\"x\", y=\"y\", hue=\"diff\", data=DDPG_train_data)\n",
    "# plt.title(\"Train 5 times Reward of 1000000 steps for each episode, Avg: Normalnoise {}, OUnoise {}\"\n",
    "#          .format(round(DDPG_train_data[DDPG_train_data['diff']==\"Normalnoise\"]['y'].mean(), 3), \n",
    "#                 round(DDPG_train_data[DDPG_train_data['diff']==\"OUnoise\"]['y'].mean(), 3)))\n",
    "# plt.xlabel(\"episodes\")\n",
    "# plt.ylabel(\"rewards\")\n",
    "\n",
    "# plt.savefig(\"RL_notes_and_codes/algorithm_implement/test/Noise_test.png\")\n",
    "# plt.show()"
   ]
  },
  {
   "cell_type": "markdown",
   "metadata": {},
   "source": [
    "![ddpg_noise_test.png](../assets/ddpg_noise_test_1.png)"
   ]
  }
 ],
 "metadata": {
  "hide_input": false,
  "kernelspec": {
   "display_name": "Python 3",
   "language": "python",
   "name": "python3"
  },
  "language_info": {
   "codemirror_mode": {
    "name": "ipython",
    "version": 3
   },
   "file_extension": ".py",
   "mimetype": "text/x-python",
   "name": "python",
   "nbconvert_exporter": "python",
   "pygments_lexer": "ipython3",
   "version": "3.6.8"
  },
  "toc": {
   "base_numbering": 1,
   "nav_menu": {},
   "number_sections": true,
   "sideBar": true,
   "skip_h1_title": false,
   "title_cell": "Table of Contents",
   "title_sidebar": "Contents",
   "toc_cell": false,
   "toc_position": {},
   "toc_section_display": true,
   "toc_window_display": false
  },
  "varInspector": {
   "cols": {
    "lenName": 16,
    "lenType": 16,
    "lenVar": 40
   },
   "kernels_config": {
    "python": {
     "delete_cmd_postfix": "",
     "delete_cmd_prefix": "del ",
     "library": "var_list.py",
     "varRefreshCmd": "print(var_dic_list())"
    },
    "r": {
     "delete_cmd_postfix": ") ",
     "delete_cmd_prefix": "rm(",
     "library": "var_list.r",
     "varRefreshCmd": "cat(var_dic_list()) "
    }
   },
   "oldHeight": 691.0904539999999,
   "position": {
    "height": "712.525px",
    "left": "1171.09px",
    "right": "20px",
    "top": "194px",
    "width": "603.05px"
   },
   "types_to_exclude": [
    "module",
    "function",
    "builtin_function_or_method",
    "instance",
    "_Feature"
   ],
   "varInspector_section_display": "block",
   "window_display": false
  }
 },
 "nbformat": 4,
 "nbformat_minor": 4
}
